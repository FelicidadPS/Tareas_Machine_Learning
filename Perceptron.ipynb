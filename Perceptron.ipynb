{
 "cells": [
  {
   "cell_type": "markdown",
   "id": "76c6b47f-748b-4b21-b5ee-e4b8f3d34ce7",
   "metadata": {},
   "source": [
    "# Perceptrón"
   ]
  },
  {
   "cell_type": "code",
   "execution_count": 1,
   "id": "8a7bf2e2-a540-4ee4-ba41-c5c622b6f9b1",
   "metadata": {},
   "outputs": [
    {
     "name": "stderr",
     "output_type": "stream",
     "text": [
      "Warning message:\n",
      "\"replacing previous import 'lifecycle::last_warnings' by 'rlang::last_warnings' when loading 'tibble'\"\n",
      "Warning message:\n",
      "\"replacing previous import 'lifecycle::last_warnings' by 'rlang::last_warnings' when loading 'hms'\"\n",
      "-- \u001b[1mAttaching packages\u001b[22m ------------------------------------------------------------------------------- tidyverse 1.3.1 --\n",
      "\n",
      "\u001b[32mv\u001b[39m \u001b[34mtibble \u001b[39m 3.1.0     \u001b[32mv\u001b[39m \u001b[34mdplyr  \u001b[39m 1.0.6\n",
      "\u001b[32mv\u001b[39m \u001b[34mtidyr  \u001b[39m 1.1.3     \u001b[32mv\u001b[39m \u001b[34mstringr\u001b[39m 1.4.0\n",
      "\u001b[32mv\u001b[39m \u001b[34mreadr  \u001b[39m 1.4.0     \u001b[32mv\u001b[39m \u001b[34mforcats\u001b[39m 0.5.1\n",
      "\u001b[32mv\u001b[39m \u001b[34mpurrr  \u001b[39m 0.3.4     \n",
      "\n",
      "-- \u001b[1mConflicts\u001b[22m ---------------------------------------------------------------------------------- tidyverse_conflicts() --\n",
      "\u001b[31mx\u001b[39m \u001b[34mdplyr\u001b[39m::\u001b[32mfilter()\u001b[39m masks \u001b[34mstats\u001b[39m::filter()\n",
      "\u001b[31mx\u001b[39m \u001b[34mdplyr\u001b[39m::\u001b[32mlag()\u001b[39m    masks \u001b[34mstats\u001b[39m::lag()\n",
      "\n"
     ]
    }
   ],
   "source": [
    "library(ggplot2)\n",
    "library(tidyverse)"
   ]
  },
  {
   "cell_type": "code",
   "execution_count": 2,
   "id": "e3c6df56-d25d-432d-adb4-a09f121dd216",
   "metadata": {},
   "outputs": [],
   "source": [
    "hardlim<-function(x){\n",
    "    y<-ifelse(x>=0,1,0)\n",
    "    return (y)\n",
    "}\n",
    "\n",
    "neurona<-function(X,w,b){\n",
    "    salida<-hardlim(crossprod(X,w)+b)\n",
    "    \n",
    "}    \n",
    "\n",
    "test_perceptron<-function(X,w,b){\n",
    " yp<-numeric(dim(X)[1])\n",
    "    for(i in 1:(dim(X)[1]))\n",
    "        yp[i]<-neurona(X[i,],w,b)\n",
    "    return(yp)\n",
    "    \n",
    "}\n",
    "\n",
    "train_perceptron <- function(X,y){\n",
    "\n",
    "w = c(1.0,-0.8)\n",
    "b = 0\n",
    "    \n",
    "  yp <-  test_perceptron(X,w,b)\n",
    "    \n",
    "    while(!identical(yp,y)){\n",
    "      \n",
    "        yp <-  test_perceptron(X,w,b)\n",
    "        #\n",
    "        if(!identical(yp,y)){\n",
    "        yp_s <- yp[((y-yp) != 0)]\n",
    "        y_s <- y[((y-yp) != 0)]\n",
    "        X_s <- X[((y-yp) != 0),]\n",
    "        \n",
    "        w <- w + (y_s[1] - yp_s[1]) * X_s[1]\n",
    "        b <- b + (y_s[1] - yp_s[1])\n",
    "        }\n",
    "    }\n",
    "    \n",
    "    return(c(w,b,yp))\n",
    "    \n",
    "\n",
    "}"
   ]
  },
  {
   "cell_type": "markdown",
   "id": "7605ad0e-7287-4206-a50f-45dcaba6b641",
   "metadata": {
    "jp-MarkdownHeadingCollapsed": true,
    "tags": []
   },
   "source": [
    "## Ejemplo 1"
   ]
  },
  {
   "cell_type": "code",
   "execution_count": 4,
   "id": "ca94ef8e-b63d-450d-ac34-a78d94ab536a",
   "metadata": {},
   "outputs": [
    {
     "data": {
      "image/png": "[encoded data removed]",
      "text/plain": [
       "plot without title"
      ]
     },
     "metadata": {
      "image/png": {
       "height": 420,
       "width": 420
      }
     },
     "output_type": "display_data"
    }
   ],
   "source": [
    "\n",
    "#definición de or\n",
    "\n",
    "X<-cbind(c(0,0,1,1),c(0,1,0,1))\n",
    "Y<-c(0,1,1,1)\n",
    "\n",
    "datos<-data.frame(X,Y)\n",
    "\n",
    "ggplot(datos,aes(x=X1, y=X2,color=as.factor(Y)))+\n",
    "    geom_point()+geom_abline(intercept=(-(-0.25/0.5)),slope=(-(0.5/0.5)))"
   ]
  },
  {
   "cell_type": "markdown",
   "id": "374266ff-335e-440a-bc5d-ed48e699e2b0",
   "metadata": {
    "jp-MarkdownHeadingCollapsed": true,
    "tags": []
   },
   "source": [
    "## Ejemplo 2"
   ]
  },
  {
   "cell_type": "code",
   "execution_count": 27,
   "id": "8dd76dcb-0796-443d-8bc7-f9bb28b793b8",
   "metadata": {},
   "outputs": [
    {
     "name": "stderr",
     "output_type": "stream",
     "text": [
      "Warning message in (Y[1] - yp) * X[1, ]:\n",
      "\"Recycling array of length 1 in array-vector arithmetic is deprecated.\n",
      "  Use c() or as.vector() instead.\n",
      "\"\n",
      "Warning message in (Y[2] - yp) * X[2, ]:\n",
      "\"Recycling array of length 1 in array-vector arithmetic is deprecated.\n",
      "  Use c() or as.vector() instead.\n",
      "\"\n",
      "Warning message in (Y[3] - yp) * X[3, ]:\n",
      "\"Recycling array of length 1 in array-vector arithmetic is deprecated.\n",
      "  Use c() or as.vector() instead.\n",
      "\"\n"
     ]
    },
    {
     "data": {
      "text/html": [
       "<style>\n",
       ".list-inline {list-style: none; margin:0; padding: 0}\n",
       ".list-inline>li {display: inline-block}\n",
       ".list-inline>li:not(:last-child)::after {content: \"\\00b7\"; padding: 0 .5ex}\n",
       "</style>\n",
       "<ol class=list-inline><li>1</li><li>0</li><li>0</li></ol>\n"
      ],
      "text/latex": [
       "\\begin{enumerate*}\n",
       "\\item 1\n",
       "\\item 0\n",
       "\\item 0\n",
       "\\end{enumerate*}\n"
      ],
      "text/markdown": [
       "1. 1\n",
       "2. 0\n",
       "3. 0\n",
       "\n",
       "\n"
      ],
      "text/plain": [
       "[1] 1 0 0"
      ]
     },
     "metadata": {},
     "output_type": "display_data"
    },
    {
     "data": {
      "image/png": "[encoded data removed]",
      "text/plain": [
       "plot without title"
      ]
     },
     "metadata": {
      "image/png": {
       "height": 420,
       "width": 420
      }
     },
     "output_type": "display_data"
    }
   ],
   "source": [
    "X<-cbind(c(1,-1,0),c(2,2,-1))\n",
    "Y<-c(1,0,0)\n",
    "datos<-data.frame(X,Y)\n",
    "\n",
    "\n",
    "w<-c(1,-0.8)\n",
    "\n",
    "#for(i in 1:(dim(X)[1]))\n",
    "#yp<-neurona(X[i,],w,0)\n",
    "\n",
    "yp<-neurona(X[1,],w,0)\n",
    "#yp\n",
    "\n",
    "#aplicar regla de aprendizaje\n",
    "w<-w+(Y[1]-yp)*X[1,]\n",
    "#w\n",
    "\n",
    "#volver a preguntar a la neurona si ya funciona\n",
    "yp<-neurona(X[1,],w,0)\n",
    "#yp\n",
    "\n",
    "#preguntar po r el segundo valor\n",
    "\n",
    "yp<-neurona(X[2,],w,0)\n",
    "#yp\n",
    "\n",
    "#aplicar regla de aprendizaje\n",
    "w<-w+(Y[2]-yp)*X[2,]\n",
    "#w\n",
    "\n",
    "#preguntar po r el segundo valor\n",
    "\n",
    "yp<-neurona(X[2,],w,0)\n",
    "\n",
    "\n",
    "\n",
    "#preguntar po r el tercer valor\n",
    "\n",
    "yp<-neurona(X[3,],w,0)\n",
    "#yp\n",
    "\n",
    "#aplicar regla de aprendizaje\n",
    "w<-w+(Y[3]-yp)*X[3,]\n",
    "#w\n",
    "\n",
    "# verificar que cumpla con los tres valores\n",
    "yp<-neurona(X[1,],w,0)\n",
    "yp<-neurona(X[2,],w,0)\n",
    "yp<-neurona(X[3,],w,0)\n",
    "#yp\n",
    "\n",
    "yp<-test_perceptron(X,w,0)\n",
    "yp\n",
    "ggplot(datos,aes(x=X1, y=X2,color=as.factor(Y)))+\n",
    "    geom_point()+geom_abline(intercept=(-(-0.25/w[2])),slope=(-(w[1]/w[2])))"
   ]
  },
  {
   "cell_type": "markdown",
   "id": "04a5d482-c2fb-49ed-84f0-c7c86a13d452",
   "metadata": {},
   "source": [
    "## Programando"
   ]
  },
  {
   "cell_type": "code",
   "execution_count": 3,
   "id": "ce824425-3176-4967-baa8-2adcd161ed7b",
   "metadata": {},
   "outputs": [
    {
     "data": {
      "image/png": "[encoded data removed]",
      "text/plain": [
       "plot without title"
      ]
     },
     "metadata": {
      "image/png": {
       "height": 420,
       "width": 420
      }
     },
     "output_type": "display_data"
    }
   ],
   "source": [
    "X<-cbind(c(1,-1,0),c(2,2,-1))\n",
    "Y<-c(1,0,0)\n",
    "datos<-data.frame(X,Y)\n",
    "res<-train_perceptron(X,Y)\n",
    "w<-res[1:2]\n",
    "ggplot(datos,aes(x=X1, y=X2,color=as.factor(Y)))+\n",
    "    geom_point()+geom_abline(intercept=(-(-0.25/w[2])),slope=(-(w[1]/w[2])))"
   ]
  },
  {
   "cell_type": "code",
   "execution_count": null,
   "id": "cb9cd9bc-e518-4059-9698-4d39e8779c5c",
   "metadata": {},
   "outputs": [],
   "source": []
  }
 ],
 "metadata": {
  "kernelspec": {
   "display_name": "R",
   "language": "R",
   "name": "ir"
  },
  "language_info": {
   "codemirror_mode": "r",
   "file_extension": ".r",
   "mimetype": "text/x-r-source",
   "name": "R",
   "pygments_lexer": "r",
   "version": "4.0.5"
  }
 },
 "nbformat": 4,
 "nbformat_minor": 5
}
