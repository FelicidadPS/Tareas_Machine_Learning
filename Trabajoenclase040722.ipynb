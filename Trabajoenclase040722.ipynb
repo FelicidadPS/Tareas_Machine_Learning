{
 "cells": [
  {
   "cell_type": "markdown",
   "id": "926a8f39-96f5-418b-8681-49a0a8cb89e8",
   "metadata": {},
   "source": [
    "# Casos Diarios por Municipio\n"
   ]
  },
  {
   "cell_type": "code",
   "execution_count": 33,
   "id": "01fb74ba-6533-405a-bf1c-42b4171d7026",
   "metadata": {},
   "outputs": [],
   "source": [
    "library(tidyverse)\n",
    "library(ggplot2)"
   ]
  },
  {
   "cell_type": "code",
   "execution_count": 30,
   "id": "11dd0778-fe29-4e98-8d2d-a31253a5566b",
   "metadata": {},
   "outputs": [
    {
     "name": "stderr",
     "output_type": "stream",
     "text": [
      "\n",
      "\u001b[36m--\u001b[39m \u001b[1mColumn specification\u001b[22m \u001b[36m------------------------------------------------------------------------------------------------\u001b[39m\n",
      "cols(\n",
      "  .default = col_double(),\n",
      "  nombre = \u001b[31mcol_character()\u001b[39m\n",
      ")\n",
      "\u001b[36mi\u001b[39m Use `spec()` for the full column specifications.\n",
      "\n"
     ]
    },
    {
     "name": "stdout",
     "output_type": "stream",
     "text": [
      "tibble[,10] [2,095,821 x 10] (S3: tbl_df/tbl/data.frame)\n",
      " $ cve_ent    : num [1:2095821] 16046 16047 16048 16049 5035 ...\n",
      " $ poblacion  : num [1:2095821] 15290 22358 5862 18769 744247 ...\n",
      " $ nombre     : chr [1:2095821] \"Juarez\" \"Jungapeo\" \"Lagunillas\" \"Madero\" ...\n",
      " $ dias       : Date[1:2095821], format: \"2020-02-26\" \"2020-02-26\" ...\n",
      " $ año        : chr [1:2095821] \"2020\" \"2020\" \"2020\" \"2020\" ...\n",
      " $ mes        : chr [1:2095821] \"02\" \"02\" \"02\" \"02\" ...\n",
      " $ dia        : chr [1:2095821] \"26\" \"26\" \"26\" \"26\" ...\n",
      " $ infectados : num [1:2095821] 0 0 0 0 0 0 0 0 0 0 ...\n",
      " $ mest_txt   : Factor w/ 12 levels \"Ene\",\"Feb\",\"Mar\",..: 2 2 2 2 2 2 2 2 2 2 ...\n",
      " $ consecutivo: int [1:2095821] 1 2 3 4 5 6 7 8 9 10 ...\n"
     ]
    },
    {
     "data": {
      "text/html": [
       "<table class=\"dataframe\">\n",
       "<caption>A tibble: 6 × 10</caption>\n",
       "<thead>\n",
       "\t<tr><th scope=col>cve_ent</th><th scope=col>poblacion</th><th scope=col>nombre</th><th scope=col>dias</th><th scope=col>año</th><th scope=col>mes</th><th scope=col>dia</th><th scope=col>infectados</th><th scope=col>mest_txt</th><th scope=col>consecutivo</th></tr>\n",
       "\t<tr><th scope=col>&lt;dbl&gt;</th><th scope=col>&lt;dbl&gt;</th><th scope=col>&lt;chr&gt;</th><th scope=col>&lt;date&gt;</th><th scope=col>&lt;chr&gt;</th><th scope=col>&lt;chr&gt;</th><th scope=col>&lt;chr&gt;</th><th scope=col>&lt;dbl&gt;</th><th scope=col>&lt;fct&gt;</th><th scope=col>&lt;int&gt;</th></tr>\n",
       "</thead>\n",
       "<tbody>\n",
       "\t<tr><td>16046</td><td> 15290</td><td>Juarez    </td><td>2020-02-26</td><td>2020</td><td>02</td><td>26</td><td>0</td><td>Feb</td><td>1</td></tr>\n",
       "\t<tr><td>16047</td><td> 22358</td><td>Jungapeo  </td><td>2020-02-26</td><td>2020</td><td>02</td><td>26</td><td>0</td><td>Feb</td><td>2</td></tr>\n",
       "\t<tr><td>16048</td><td>  5862</td><td>Lagunillas</td><td>2020-02-26</td><td>2020</td><td>02</td><td>26</td><td>0</td><td>Feb</td><td>3</td></tr>\n",
       "\t<tr><td>16049</td><td> 18769</td><td>Madero    </td><td>2020-02-26</td><td>2020</td><td>02</td><td>26</td><td>0</td><td>Feb</td><td>4</td></tr>\n",
       "\t<tr><td> 5035</td><td>744247</td><td>Torreon   </td><td>2020-02-26</td><td>2020</td><td>02</td><td>26</td><td>0</td><td>Feb</td><td>5</td></tr>\n",
       "\t<tr><td> 5036</td><td> 23781</td><td>Viesca    </td><td>2020-02-26</td><td>2020</td><td>02</td><td>26</td><td>0</td><td>Feb</td><td>6</td></tr>\n",
       "</tbody>\n",
       "</table>\n"
      ],
      "text/latex": [
       "A tibble: 6 × 10\n",
       "\\begin{tabular}{llllllllll}\n",
       " cve\\_ent & poblacion & nombre & dias & año & mes & dia & infectados & mest\\_txt & consecutivo\\\\\n",
       " <dbl> & <dbl> & <chr> & <date> & <chr> & <chr> & <chr> & <dbl> & <fct> & <int>\\\\\n",
       "\\hline\n",
       "\t 16046 &  15290 & Juarez     & 2020-02-26 & 2020 & 02 & 26 & 0 & Feb & 1\\\\\n",
       "\t 16047 &  22358 & Jungapeo   & 2020-02-26 & 2020 & 02 & 26 & 0 & Feb & 2\\\\\n",
       "\t 16048 &   5862 & Lagunillas & 2020-02-26 & 2020 & 02 & 26 & 0 & Feb & 3\\\\\n",
       "\t 16049 &  18769 & Madero     & 2020-02-26 & 2020 & 02 & 26 & 0 & Feb & 4\\\\\n",
       "\t  5035 & 744247 & Torreon    & 2020-02-26 & 2020 & 02 & 26 & 0 & Feb & 5\\\\\n",
       "\t  5036 &  23781 & Viesca     & 2020-02-26 & 2020 & 02 & 26 & 0 & Feb & 6\\\\\n",
       "\\end{tabular}\n"
      ],
      "text/markdown": [
       "\n",
       "A tibble: 6 × 10\n",
       "\n",
       "| cve_ent &lt;dbl&gt; | poblacion &lt;dbl&gt; | nombre &lt;chr&gt; | dias &lt;date&gt; | año &lt;chr&gt; | mes &lt;chr&gt; | dia &lt;chr&gt; | infectados &lt;dbl&gt; | mest_txt &lt;fct&gt; | consecutivo &lt;int&gt; |\n",
       "|---|---|---|---|---|---|---|---|---|---|\n",
       "| 16046 |  15290 | Juarez     | 2020-02-26 | 2020 | 02 | 26 | 0 | Feb | 1 |\n",
       "| 16047 |  22358 | Jungapeo   | 2020-02-26 | 2020 | 02 | 26 | 0 | Feb | 2 |\n",
       "| 16048 |   5862 | Lagunillas | 2020-02-26 | 2020 | 02 | 26 | 0 | Feb | 3 |\n",
       "| 16049 |  18769 | Madero     | 2020-02-26 | 2020 | 02 | 26 | 0 | Feb | 4 |\n",
       "|  5035 | 744247 | Torreon    | 2020-02-26 | 2020 | 02 | 26 | 0 | Feb | 5 |\n",
       "|  5036 |  23781 | Viesca     | 2020-02-26 | 2020 | 02 | 26 | 0 | Feb | 6 |\n",
       "\n"
      ],
      "text/plain": [
       "  cve_ent poblacion nombre     dias       año  mes dia infectados mest_txt\n",
       "1 16046    15290    Juarez     2020-02-26 2020 02  26  0          Feb     \n",
       "2 16047    22358    Jungapeo   2020-02-26 2020 02  26  0          Feb     \n",
       "3 16048     5862    Lagunillas 2020-02-26 2020 02  26  0          Feb     \n",
       "4 16049    18769    Madero     2020-02-26 2020 02  26  0          Feb     \n",
       "5  5035   744247    Torreon    2020-02-26 2020 02  26  0          Feb     \n",
       "6  5036    23781    Viesca     2020-02-26 2020 02  26  0          Feb     \n",
       "  consecutivo\n",
       "1 1          \n",
       "2 2          \n",
       "3 3          \n",
       "4 4          \n",
       "5 5          \n",
       "6 6          "
      ]
     },
     "metadata": {},
     "output_type": "display_data"
    }
   ],
   "source": [
    "casosmun <- read_csv(\"Casos_Diarios_Municipio.csv\")\n",
    "#str(casosmun)\n",
    "#length(names(casosmun))\n",
    "casosmunlist<-gather(casosmun,key=\"dias\",value=\"infectados\",\n",
    "                        4:856)\n",
    "casosmunlist$dias<-as.Date(casosmunlist$dias,\"%d/%m/%Y\")\n",
    "#str(casosmunlist)\n",
    "cod_Meses <- function(x) {\n",
    "\n",
    "labels_meses <- c(\n",
    "    \"Ene\",\"Feb\",\"Mar\",\"Abr\",\"May\",\"Jun\",\n",
    "    \"Jul\",\"Ago\",\"Sep\",\"Oct\",\"Nov\",\"Dic\")\n",
    "\n",
    "    return(factor(x,levels = (1:12),labels = labels_meses))\n",
    "    \n",
    "    }\n",
    "\n",
    "datos <- separate( data = casosmunlist,\n",
    "                   col =dias,\n",
    "                   into = c(\"año\",\"mes\",\"dia\"),\n",
    "                   sep = '-',\n",
    "                   remove = FALSE)\n",
    "#datos\n",
    "\n",
    "datos<-datos%>%mutate(mest_txt=cod_Meses(as.integer(mes)))%>%mutate(consecutivo=1:2095821)\n",
    "str(datos)\n",
    "head(datos)"
   ]
  },
  {
   "cell_type": "code",
   "execution_count": 34,
   "id": "1c26a294-8def-4d6d-9d19-2a5c35173eea",
   "metadata": {},
   "outputs": [
    {
     "data": {
      "image/png": "[encoded data removed]",
      "text/plain": [
       "plot without title"
      ]
     },
     "metadata": {
      "image/png": {
       "height": 420,
       "width": 420
      }
     },
     "output_type": "display_data"
    }
   ],
   "source": [
    "datos%>% filter(nombre==\"Durango\")%>%\n",
    "        ggplot(aes(x=as.Date(dias,\"%d/%m/%Y\"),y=infectados))+\n",
    "        geom_point()+\n",
    "        geom_line()"
   ]
  },
  {
   "cell_type": "code",
   "execution_count": 35,
   "id": "51ad83b7-e6eb-476e-b040-9ea3949aeb88",
   "metadata": {},
   "outputs": [
    {
     "data": {
      "image/png": "[encoded data removed]",
      "text/plain": [
       "plot without title"
      ]
     },
     "metadata": {
      "image/png": {
       "height": 420,
       "width": 420
      }
     },
     "output_type": "display_data"
    }
   ],
   "source": [
    "datos%>% filter(nombre%in%c(\"Durango\",\"Torreon\",\"Azcapotzalco\"))%>%filter(año%in%c(\"2020\",\"2021\"))%>%\n",
    "        ggplot(aes(x=dias,y=infectados,group=nombre,color=nombre))+\n",
    "        geom_point(fill=\"#A4A4A4\",color=\"darkred\")+geom_line()#+\n",
    "#        stat_smooth(method=\"gam\",aes(x=as.Date(dias,\"%d/%m/%Y\"),y=infectados))+\n",
    "#        coord_cartesian(xlim=c(as.Date(\"01/12/2020\",\"%d/%m/%Y\"),as.Date(\"01/02/2021\",\"%d/%m/%Y\")))"
   ]
  },
  {
   "cell_type": "code",
   "execution_count": 40,
   "id": "a3730c91-d021-4f7a-8171-bcb9e57a5931",
   "metadata": {},
   "outputs": [
    {
     "name": "stderr",
     "output_type": "stream",
     "text": [
      "Installing package into 'C:/Users/FelicidadPS/OneDrive/Documentos/R/win-library/4.0'\n",
      "(as 'lib' is unspecified)\n",
      "\n"
     ]
    },
    {
     "name": "stdout",
     "output_type": "stream",
     "text": [
      "package 'gganimate' successfully unpacked and MD5 sums checked\n",
      "\n",
      "The downloaded binary packages are in\n",
      "\tC:\\Users\\FelicidadPS\\AppData\\Local\\Temp\\Rtmp4El1Jc\\downloaded_packages\n"
     ]
    }
   ],
   "source": [
    "install.packages(\"gganimate\")\n",
    "library(gganimate)"
   ]
  },
  {
   "cell_type": "code",
   "execution_count": 41,
   "id": "e8dc7471-ac4a-467b-9e47-1fe079516845",
   "metadata": {},
   "outputs": [
    {
     "name": "stderr",
     "output_type": "stream",
     "text": [
      "\n",
      "Rendering [>-------------------------------------------] at 9.9 fps ~ eta: 10s\n",
      "\n",
      "Rendering [>-------------------------------------------] at 9.2 fps ~ eta: 11s\n",
      "\n",
      "Rendering [=>--------------------------------------------] at 7 fps ~ eta: 14s\n",
      "\n",
      "Rendering [=>------------------------------------------] at 7.2 fps ~ eta: 13s\n",
      "\n",
      "Rendering [==>-----------------------------------------] at 7.4 fps ~ eta: 13s\n",
      "\n",
      "Rendering [==>-----------------------------------------] at 7.5 fps ~ eta: 12s\n",
      "\n",
      "Rendering [===>----------------------------------------] at 7.6 fps ~ eta: 12s\n",
      "\n",
      "Rendering [===>----------------------------------------] at 7.7 fps ~ eta: 12s\n",
      "\n",
      "Rendering [===>----------------------------------------] at 7.8 fps ~ eta: 12s\n",
      "\n",
      "Rendering [====>---------------------------------------] at 7.8 fps ~ eta: 11s\n",
      "\n",
      "Rendering [=====>--------------------------------------] at 7.9 fps ~ eta: 11s\n",
      "\n",
      "Rendering [=====>--------------------------------------] at 7.5 fps ~ eta: 12s\n",
      "\n",
      "Rendering [======>-------------------------------------] at 7.5 fps ~ eta: 11s\n",
      "\n",
      "Rendering [======>-------------------------------------] at 7.6 fps ~ eta: 11s\n",
      "\n",
      "Rendering [=======>------------------------------------] at 7.7 fps ~ eta: 11s\n",
      "\n",
      "Rendering [========>-----------------------------------] at 7.7 fps ~ eta: 10s\n",
      "\n",
      "Rendering [========>-----------------------------------] at 7.8 fps ~ eta: 10s\n",
      "\n",
      "Rendering [=========>----------------------------------] at 7.8 fps ~ eta: 10s\n",
      "\n",
      "Rendering [=========>----------------------------------] at 7.5 fps ~ eta: 10s\n",
      "\n",
      "Rendering [==========>---------------------------------] at 7.5 fps ~ eta: 10s\n",
      "\n",
      "Rendering [==========>---------------------------------] at 7.6 fps ~ eta: 10s\n",
      "\n",
      "Rendering [===========>--------------------------------] at 7.6 fps ~ eta: 10s\n",
      "\n",
      "Rendering [===========>--------------------------------] at 7.6 fps ~ eta:  9s\n",
      "\n",
      "Rendering [============>-------------------------------] at 7.6 fps ~ eta:  9s\n",
      "\n",
      "Rendering [=============>------------------------------] at 7.7 fps ~ eta:  9s\n",
      "\n",
      "Rendering [==============>-----------------------------] at 7.5 fps ~ eta:  9s\n",
      "\n",
      "Rendering [===============>----------------------------] at 7.6 fps ~ eta:  8s\n",
      "\n",
      "Rendering [================>---------------------------] at 7.6 fps ~ eta:  8s\n",
      "\n",
      "Rendering [=================>--------------------------] at 7.7 fps ~ eta:  8s\n",
      "\n",
      "Rendering [==================>-------------------------] at 7.5 fps ~ eta:  8s\n",
      "\n",
      "Rendering [==================>-------------------------] at 7.6 fps ~ eta:  7s\n",
      "\n",
      "Rendering [===================>------------------------] at 7.6 fps ~ eta:  7s\n",
      "\n",
      "Rendering [====================>-----------------------] at 7.6 fps ~ eta:  7s\n",
      "\n",
      "Rendering [=====================>----------------------] at 7.6 fps ~ eta:  7s\n",
      "\n",
      "Rendering [=====================>----------------------] at 7.6 fps ~ eta:  6s\n",
      "\n",
      "Rendering [======================>---------------------] at 7.5 fps ~ eta:  6s\n",
      "\n",
      "Rendering [=======================>--------------------] at 7.5 fps ~ eta:  6s\n",
      "\n",
      "Rendering [=======================>--------------------] at 7.6 fps ~ eta:  6s\n",
      "\n",
      "Rendering [========================>-------------------] at 7.6 fps ~ eta:  6s\n",
      "\n",
      "Rendering [=========================>------------------] at 7.6 fps ~ eta:  6s\n",
      "\n",
      "Rendering [=========================>------------------] at 7.6 fps ~ eta:  5s\n",
      "\n",
      "Rendering [==========================>-----------------] at 7.5 fps ~ eta:  5s\n",
      "\n",
      "Rendering [===========================>----------------] at 7.5 fps ~ eta:  5s\n",
      "\n",
      "Rendering [============================>---------------] at 7.5 fps ~ eta:  5s\n",
      "\n",
      "Rendering [============================>---------------] at 7.5 fps ~ eta:  4s\n",
      "\n",
      "Rendering [=============================>--------------] at 7.5 fps ~ eta:  4s\n",
      "\n",
      "Rendering [==============================>-------------] at 7.5 fps ~ eta:  4s\n",
      "\n",
      "Rendering [===============================>------------] at 7.5 fps ~ eta:  4s\n",
      "\n",
      "Rendering [================================>-----------] at 7.5 fps ~ eta:  3s\n",
      "\n",
      "Rendering [=================================>----------] at 7.5 fps ~ eta:  3s\n",
      "\n",
      "Rendering [==================================>---------] at 7.5 fps ~ eta:  3s\n",
      "\n",
      "Rendering [==================================>---------] at 7.4 fps ~ eta:  3s\n",
      "\n",
      "Rendering [===================================>--------] at 7.4 fps ~ eta:  3s\n",
      "\n",
      "Rendering [===================================>--------] at 7.4 fps ~ eta:  2s\n",
      "\n",
      "Rendering [====================================>-------] at 7.4 fps ~ eta:  2s\n",
      "\n",
      "Rendering [=====================================>------] at 7.4 fps ~ eta:  2s\n",
      "\n",
      "Rendering [=====================================>------] at 7.5 fps ~ eta:  2s\n",
      "\n",
      "Rendering [======================================>-----] at 7.5 fps ~ eta:  2s\n",
      "\n",
      "Rendering [======================================>-----] at 7.4 fps ~ eta:  1s\n",
      "\n",
      "Rendering [=======================================>----] at 7.4 fps ~ eta:  1s\n",
      "\n",
      "Rendering [========================================>---] at 7.4 fps ~ eta:  1s\n",
      "\n",
      "Rendering [=========================================>--] at 7.4 fps ~ eta:  1s\n",
      "\n",
      "Rendering [==========================================>-] at 7.4 fps ~ eta:  0s\n",
      "\n",
      "Rendering [===========================================>] at 7.4 fps ~ eta:  0s\n",
      "\n",
      "Rendering [============================================] at 7.4 fps ~ eta:  0s\n",
      "                                                                              \n",
      "\n"
     ]
    }
   ],
   "source": [
    "p1<- datos%>% filter(nombre%in%c(\"Durango\",\"Torreon\",\"Azcapotzalco\"))%>%filter(año%in%c(\"2020\",\"2021\"))%>%\n",
    "        ggplot(aes(x=dias,y=infectados,group=nombre,color=nombre))+\n",
    "        geom_point(fill=\"#A4A4A4\",color=\"darkred\")+geom_line()+\n",
    "#        stat_smooth(method=\"gam\",aes(x=as.Date(dias,\"%d/%m/%Y\"),y=infectados))+\n",
    "        coord_cartesian(xlim=c(as.Date(\"01/12/2020\",\"%d/%m/%Y\"),as.Date(\"01/02/2021\",\"%d/%m/%Y\")))+\n",
    "        transition_reveal(dias)\n",
    "\n",
    "\n",
    "mi_gift2<-animate(p1,width=1600,height=800,render=gifski_renderer(loop=TRUE))\n",
    "anim_save(filename=\"animacion2.gif\")"
   ]
  },
  {
   "cell_type": "code",
   "execution_count": null,
   "id": "65e1341d-d097-43e7-9647-ec7a53c99582",
   "metadata": {},
   "outputs": [],
   "source": []
  }
 ],
 "metadata": {
  "kernelspec": {
   "display_name": "R",
   "language": "R",
   "name": "ir"
  },
  "language_info": {
   "codemirror_mode": "r",
   "file_extension": ".r",
   "mimetype": "text/x-r-source",
   "name": "R",
   "pygments_lexer": "r",
   "version": "4.0.5"
  }
 },
 "nbformat": 4,
 "nbformat_minor": 5
}
