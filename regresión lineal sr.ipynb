{
 "cells": [
  {
   "cell_type": "code",
   "execution_count": null,
   "id": "846bc3be-7bff-43fe-8cd0-b6732ea06f1d",
   "metadata": {},
   "outputs": [],
   "source": [
    "# Regresión simple"
   ]
  },
  {
   "cell_type": "code",
   "execution_count": 1,
   "id": "43d2a101-188c-42ee-bf54-fdf849b2eeca",
   "metadata": {},
   "outputs": [
    {
     "name": "stderr",
     "output_type": "stream",
     "text": [
      "Warning message:\n",
      "\"replacing previous import 'lifecycle::last_warnings' by 'rlang::last_warnings' when loading 'tibble'\"\n",
      "Warning message:\n",
      "\"replacing previous import 'lifecycle::last_warnings' by 'rlang::last_warnings' when loading 'hms'\"\n",
      "-- \u001b[1mAttaching packages\u001b[22m ------------------------------------------------------------------------------- tidyverse 1.3.1 --\n",
      "\n",
      "\u001b[32mv\u001b[39m \u001b[34mggplot2\u001b[39m 3.3.5     \u001b[32mv\u001b[39m \u001b[34mpurrr  \u001b[39m 0.3.4\n",
      "\u001b[32mv\u001b[39m \u001b[34mtibble \u001b[39m 3.1.0     \u001b[32mv\u001b[39m \u001b[34mdplyr  \u001b[39m 1.0.6\n",
      "\u001b[32mv\u001b[39m \u001b[34mtidyr  \u001b[39m 1.1.3     \u001b[32mv\u001b[39m \u001b[34mstringr\u001b[39m 1.4.0\n",
      "\u001b[32mv\u001b[39m \u001b[34mreadr  \u001b[39m 1.4.0     \u001b[32mv\u001b[39m \u001b[34mforcats\u001b[39m 0.5.1\n",
      "\n",
      "-- \u001b[1mConflicts\u001b[22m ---------------------------------------------------------------------------------- tidyverse_conflicts() --\n",
      "\u001b[31mx\u001b[39m \u001b[34mdplyr\u001b[39m::\u001b[32mfilter()\u001b[39m masks \u001b[34mstats\u001b[39m::filter()\n",
      "\u001b[31mx\u001b[39m \u001b[34mdplyr\u001b[39m::\u001b[32mlag()\u001b[39m    masks \u001b[34mstats\u001b[39m::lag()\n",
      "\n",
      "\n",
      "Attaching package: 'plotly'\n",
      "\n",
      "\n",
      "The following object is masked from 'package:ggplot2':\n",
      "\n",
      "    last_plot\n",
      "\n",
      "\n",
      "The following object is masked from 'package:stats':\n",
      "\n",
      "    filter\n",
      "\n",
      "\n",
      "The following object is masked from 'package:graphics':\n",
      "\n",
      "    layout\n",
      "\n",
      "\n"
     ]
    }
   ],
   "source": [
    "library(tidyverse)\n",
    "library(gifski)\n",
    "library(tidyverse)\n",
    "library(gganimate)\n",
    "library(plotly)\n",
    "library(RColorBrewer)\n",
    "library(wesanderson)\n"
   ]
  },
  {
   "cell_type": "markdown",
   "id": "f6deecc2-5b73-42de-8c6e-705e3075eebd",
   "metadata": {},
   "source": [
    "#### Datos de la sesión pasada\n"
   ]
  },
  {
   "cell_type": "code",
   "execution_count": 10,
   "id": "d1b3f581-4ceb-4304-95f6-99706ce7db31",
   "metadata": {},
   "outputs": [
    {
     "data": {
      "text/html": [
       "<table class=\"dataframe\">\n",
       "<caption>A data.frame: 6 × 10</caption>\n",
       "<thead>\n",
       "\t<tr><th></th><th scope=col>cve_ent</th><th scope=col>poblacion</th><th scope=col>nombre</th><th scope=col>dias</th><th scope=col>dia</th><th scope=col>mes</th><th scope=col>año</th><th scope=col>infectados</th><th scope=col>mest_txt</th><th scope=col>consecutivo</th></tr>\n",
       "\t<tr><th></th><th scope=col>&lt;int&gt;</th><th scope=col>&lt;int&gt;</th><th scope=col>&lt;chr&gt;</th><th scope=col>&lt;chr&gt;</th><th scope=col>&lt;chr&gt;</th><th scope=col>&lt;chr&gt;</th><th scope=col>&lt;chr&gt;</th><th scope=col>&lt;int&gt;</th><th scope=col>&lt;fct&gt;</th><th scope=col>&lt;int&gt;</th></tr>\n",
       "</thead>\n",
       "<tbody>\n",
       "\t<tr><th scope=row>1</th><td>0</td><td>127792286</td><td>Nacional</td><td>26/02/2020</td><td>26</td><td>02</td><td>2020</td><td>0</td><td>Feb</td><td>1</td></tr>\n",
       "\t<tr><th scope=row>2</th><td>0</td><td>127792286</td><td>Nacional</td><td>27/02/2020</td><td>27</td><td>02</td><td>2020</td><td>4</td><td>Feb</td><td>2</td></tr>\n",
       "\t<tr><th scope=row>3</th><td>0</td><td>127792286</td><td>Nacional</td><td>28/02/2020</td><td>28</td><td>02</td><td>2020</td><td>2</td><td>Feb</td><td>3</td></tr>\n",
       "\t<tr><th scope=row>4</th><td>0</td><td>127792286</td><td>Nacional</td><td>29/02/2020</td><td>29</td><td>02</td><td>2020</td><td>2</td><td>Feb</td><td>4</td></tr>\n",
       "\t<tr><th scope=row>5</th><td>0</td><td>127792286</td><td>Nacional</td><td>01/03/2020</td><td>01</td><td>03</td><td>2020</td><td>2</td><td>Mar</td><td>5</td></tr>\n",
       "\t<tr><th scope=row>6</th><td>0</td><td>127792286</td><td>Nacional</td><td>02/03/2020</td><td>02</td><td>03</td><td>2020</td><td>5</td><td>Mar</td><td>6</td></tr>\n",
       "</tbody>\n",
       "</table>\n"
      ],
      "text/latex": [
       "A data.frame: 6 × 10\n",
       "\\begin{tabular}{r|llllllllll}\n",
       "  & cve\\_ent & poblacion & nombre & dias & dia & mes & año & infectados & mest\\_txt & consecutivo\\\\\n",
       "  & <int> & <int> & <chr> & <chr> & <chr> & <chr> & <chr> & <int> & <fct> & <int>\\\\\n",
       "\\hline\n",
       "\t1 & 0 & 127792286 & Nacional & 26/02/2020 & 26 & 02 & 2020 & 0 & Feb & 1\\\\\n",
       "\t2 & 0 & 127792286 & Nacional & 27/02/2020 & 27 & 02 & 2020 & 4 & Feb & 2\\\\\n",
       "\t3 & 0 & 127792286 & Nacional & 28/02/2020 & 28 & 02 & 2020 & 2 & Feb & 3\\\\\n",
       "\t4 & 0 & 127792286 & Nacional & 29/02/2020 & 29 & 02 & 2020 & 2 & Feb & 4\\\\\n",
       "\t5 & 0 & 127792286 & Nacional & 01/03/2020 & 01 & 03 & 2020 & 2 & Mar & 5\\\\\n",
       "\t6 & 0 & 127792286 & Nacional & 02/03/2020 & 02 & 03 & 2020 & 5 & Mar & 6\\\\\n",
       "\\end{tabular}\n"
      ],
      "text/markdown": [
       "\n",
       "A data.frame: 6 × 10\n",
       "\n",
       "| <!--/--> | cve_ent &lt;int&gt; | poblacion &lt;int&gt; | nombre &lt;chr&gt; | dias &lt;chr&gt; | dia &lt;chr&gt; | mes &lt;chr&gt; | año &lt;chr&gt; | infectados &lt;int&gt; | mest_txt &lt;fct&gt; | consecutivo &lt;int&gt; |\n",
       "|---|---|---|---|---|---|---|---|---|---|---|\n",
       "| 1 | 0 | 127792286 | Nacional | 26/02/2020 | 26 | 02 | 2020 | 0 | Feb | 1 |\n",
       "| 2 | 0 | 127792286 | Nacional | 27/02/2020 | 27 | 02 | 2020 | 4 | Feb | 2 |\n",
       "| 3 | 0 | 127792286 | Nacional | 28/02/2020 | 28 | 02 | 2020 | 2 | Feb | 3 |\n",
       "| 4 | 0 | 127792286 | Nacional | 29/02/2020 | 29 | 02 | 2020 | 2 | Feb | 4 |\n",
       "| 5 | 0 | 127792286 | Nacional | 01/03/2020 | 01 | 03 | 2020 | 2 | Mar | 5 |\n",
       "| 6 | 0 | 127792286 | Nacional | 02/03/2020 | 02 | 03 | 2020 | 5 | Mar | 6 |\n",
       "\n"
      ],
      "text/plain": [
       "  cve_ent poblacion nombre   dias       dia mes año  infectados mest_txt\n",
       "1 0       127792286 Nacional 26/02/2020 26  02  2020 0          Feb     \n",
       "2 0       127792286 Nacional 27/02/2020 27  02  2020 4          Feb     \n",
       "3 0       127792286 Nacional 28/02/2020 28  02  2020 2          Feb     \n",
       "4 0       127792286 Nacional 29/02/2020 29  02  2020 2          Feb     \n",
       "5 0       127792286 Nacional 01/03/2020 01  03  2020 2          Mar     \n",
       "6 0       127792286 Nacional 02/03/2020 02  03  2020 5          Mar     \n",
       "  consecutivo\n",
       "1 1          \n",
       "2 2          \n",
       "3 3          \n",
       "4 4          \n",
       "5 5          \n",
       "6 6          "
      ]
     },
     "metadata": {},
     "output_type": "display_data"
    },
    {
     "name": "stdout",
     "output_type": "stream",
     "text": [
      "'data.frame':\t853 obs. of  10 variables:\n",
      " $ cve_ent    : int  0 0 0 0 0 0 0 0 0 0 ...\n",
      " $ poblacion  : int  127792286 127792286 127792286 127792286 127792286 127792286 127792286 127792286 127792286 127792286 ...\n",
      " $ nombre     : chr  \"Nacional\" \"Nacional\" \"Nacional\" \"Nacional\" ...\n",
      " $ dias       : chr  \"26/02/2020\" \"27/02/2020\" \"28/02/2020\" \"29/02/2020\" ...\n",
      " $ dia        : chr  \"26\" \"27\" \"28\" \"29\" ...\n",
      " $ mes        : chr  \"02\" \"02\" \"02\" \"02\" ...\n",
      " $ año        : chr  \"2020\" \"2020\" \"2020\" \"2020\" ...\n",
      " $ infectados : int  0 4 2 2 2 5 9 10 11 6 ...\n",
      " $ mest_txt   : Factor w/ 12 levels \"Ene\",\"Feb\",\"Mar\",..: 2 2 2 2 3 3 3 3 3 3 ...\n",
      " $ consecutivo: int  1 2 3 4 5 6 7 8 9 10 ...\n"
     ]
    }
   ],
   "source": [
    "casos_diarios <-  read.csv(file = \"Casos_Diarios_Estado_Nacional.csv\")\n",
    "casos_diario_list <- gather(casos_diarios,key =\"dias\",value=\"infectados\",4:856)\n",
    "\n",
    "normalizarfecha <- function(fecha){\n",
    "return(str_replace_all(fecha,\"X\",\"\")  %>% str_replace_all(\"\\\\.\",\"/\"))\n",
    "}\n",
    "\n",
    "cod_Meses <- function(x) {\n",
    "\n",
    "labels_meses <- c(\n",
    "    \"Ene\",\"Feb\",\"Mar\",\"Abr\",\"May\",\"Jun\",\n",
    "    \"Jul\",\"Ago\",\"Sep\",\"Oct\",\"Nov\",\"Dic\")\n",
    "\n",
    "    return(factor(x,levels = (1:12),labels = labels_meses))\n",
    "    \n",
    "    }\n",
    "\n",
    "fecha = map(casos_diario_list[4],normalizarfecha)\n",
    "casos_diarios_fecha <- cbind(casos_diario_list[c(TRUE,TRUE,TRUE,FALSE,TRUE)],fecha)\n",
    "casos_diarios_fecha <- casos_diarios_fecha[c(1,2,3,5,4)]\n",
    "\n",
    "datos <- separate( data = casos_diarios_fecha,\n",
    "                   col =dias,\n",
    "                   into = c(\"dia\",\"mes\",\"año\"),\n",
    "                   sep = '/',\n",
    "                   remove = FALSE)\n",
    "#recordatorio\n",
    "datos <- datos %>% mutate(mest_txt = cod_Meses(as.integer(mes)))%>% mutate(consecutivo=1:28149)\n",
    "\n",
    "\n",
    "\n",
    "\n",
    "#datos %>%select(cve_ent,poblacion,infectados,consecutivo)%>% cov()\n",
    "#datos<-datos%>%mutate(infectadosnew=(infectados/poblacion)*100000)\n",
    "#datos %>%select(cve_ent,poblacion,infectados,consecutivo,infectadosnew)%>% cov()\n",
    "\n",
    "datosf<-datos%>% filter(nombre==\"Nacional\")%>%mutate(consecutivo=1:853)\n",
    "head(datosf)\n",
    "str(datosf)"
   ]
  },
  {
   "cell_type": "code",
   "execution_count": 13,
   "id": "dc6c6372-62c8-473b-9808-c708a337f613",
   "metadata": {},
   "outputs": [
    {
     "data": {
      "image/png": "[encoded data removed]",
      "text/plain": [
       "plot without title"
      ]
     },
     "metadata": {
      "image/png": {
       "height": 420,
       "width": 420
      }
     },
     "output_type": "display_data"
    }
   ],
   "source": [
    "datosf%>%ggplot(aes(x=consecutivo,y=infectados))+\n",
    "    geom_point()+coord_cartesian(xlim=c(200,300),ylim=c(0,20000))\n",
    "\n"
   ]
  },
  {
   "cell_type": "code",
   "execution_count": 14,
   "id": "1a073535-9d40-4a5b-bd8f-367c15f569c9",
   "metadata": {},
   "outputs": [
    {
     "data": {
      "text/plain": [
       "\n",
       "Call:\n",
       "lm(formula = infectados ~ consecutivo, data = datost)\n",
       "\n",
       "Residuals:\n",
       "    Min      1Q  Median      3Q     Max \n",
       "-6378.3 -2209.7   868.3  1885.9  4620.0 \n",
       "\n",
       "Coefficients:\n",
       "              Estimate Std. Error t value Pr(>|t|)    \n",
       "(Intercept) -10569.829   2324.813  -4.547 1.55e-05 ***\n",
       "consecutivo     69.388      9.237   7.512 2.62e-11 ***\n",
       "---\n",
       "Signif. codes:  0 '***' 0.001 '**' 0.01 '*' 0.05 '.' 0.1 ' ' 1\n",
       "\n",
       "Residual standard error: 2706 on 99 degrees of freedom\n",
       "Multiple R-squared:  0.3631,\tAdjusted R-squared:  0.3566 \n",
       "F-statistic: 56.43 on 1 and 99 DF,  p-value: 2.619e-11\n"
      ]
     },
     "metadata": {},
     "output_type": "display_data"
    }
   ],
   "source": [
    "datost=datosf%>%filter(consecutivo>=200)%>%filter(consecutivo<=300)\n",
    "\n",
    "regresion<-lm(infectados~consecutivo,data=datost)\n",
    "summary(regresion)"
   ]
  },
  {
   "cell_type": "code",
   "execution_count": 16,
   "id": "3f6a6b27-77d3-492f-9e04-624bca7e7d54",
   "metadata": {},
   "outputs": [
    {
     "name": "stdout",
     "output_type": "stream",
     "text": [
      " Named num [1:101] 3308 3377 3447 3516 3585 ...\n",
      " - attr(*, \"names\")= chr [1:101] \"1\" \"2\" \"3\" \"4\" ...\n"
     ]
    },
    {
     "data": {
      "image/png": "[encoded data removed]",
      "text/plain": [
       "plot without title"
      ]
     },
     "metadata": {
      "image/png": {
       "height": 420,
       "width": 420
      }
     },
     "output_type": "display_data"
    }
   ],
   "source": [
    "prediccion<-predict(regresion,consecutivo=200:300)\n",
    "str(prediccion)\n",
    "prediccion_frame<-data.frame(nombre=\"prediccion\",\n",
    "                            consecutivo=200:300,\n",
    "                            infectados= prediccion)\n",
    "\n",
    "datos_plot<-rbind(select(datost,nombre,consecutivo,infectados),\n",
    "                  prediccion_frame)\n",
    "\n",
    "datos_plot%>%ggplot(aes(x=consecutivo,y=infectados,group=nombre,\n",
    "                       color=nombre))+\n",
    "    geom_point()+coord_cartesian(xlim=c(200,300),ylim=c(0,20000))\n",
    "\n"
   ]
  },
  {
   "cell_type": "code",
   "execution_count": 17,
   "id": "f5d7a8b6-882c-4603-a62b-55fa49db4e1b",
   "metadata": {},
   "outputs": [
    {
     "name": "stdout",
     "output_type": "stream",
     "text": [
      " Named num [1:101] 3308 3377 3447 3516 3585 ...\n",
      " - attr(*, \"names\")= chr [1:101] \"1\" \"2\" \"3\" \"4\" ...\n"
     ]
    },
    {
     "data": {
      "image/png": "[encoded data removed]",
      "text/plain": [
       "plot without title"
      ]
     },
     "metadata": {
      "image/png": {
       "height": 420,
       "width": 420
      }
     },
     "output_type": "display_data"
    }
   ],
   "source": [
    "\n",
    "prediccion<-predict(regresion,consecutivo=250:350)\n",
    "str(prediccion)\n",
    "prediccion_frame<-data.frame(nombre=\"prediccion\",\n",
    "                            consecutivo=250:350,\n",
    "                            infectados= prediccion)\n",
    "\n",
    "datos_plot<-rbind(select(datost,nombre,consecutivo,infectados),\n",
    "                  prediccion_frame)\n",
    "\n",
    "datos_plot%>%ggplot(aes(x=consecutivo,y=infectados,group=nombre,\n",
    "                       color=nombre))+\n",
    "    geom_point()+coord_cartesian(xlim=c(250,350),ylim=c(0,20000))\n"
   ]
  },
  {
   "cell_type": "code",
   "execution_count": null,
   "id": "a59bba5f-943d-4c57-8f6b-23307c3b4669",
   "metadata": {},
   "outputs": [],
   "source": []
  }
 ],
 "metadata": {
  "kernelspec": {
   "display_name": "R",
   "language": "R",
   "name": "ir"
  },
  "language_info": {
   "codemirror_mode": "r",
   "file_extension": ".r",
   "mimetype": "text/x-r-source",
   "name": "R",
   "pygments_lexer": "r",
   "version": "4.0.5"
  }
 },
 "nbformat": 4,
 "nbformat_minor": 5
}
