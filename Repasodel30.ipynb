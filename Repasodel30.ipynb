{
 "cells": [
  {
   "cell_type": "markdown",
   "id": "e4dee6ff-0e65-4eaa-b9ca-b546f898460a",
   "metadata": {},
   "source": [
    "# Práctica 30.06.22"
   ]
  },
  {
   "cell_type": "code",
   "execution_count": 1,
   "id": "6c13e592-320e-4b13-a4a7-70736a4ad236",
   "metadata": {},
   "outputs": [
    {
     "data": {
      "text/html": [
       "1"
      ],
      "text/latex": [
       "1"
      ],
      "text/markdown": [
       "1"
      ],
      "text/plain": [
       "[1] 1"
      ]
     },
     "metadata": {},
     "output_type": "display_data"
    }
   ],
   "source": [
    "Vector<-c(1,2)\n",
    "Vector<-Vector[c(TRUE,FALSE)]\n",
    "Vector"
   ]
  },
  {
   "cell_type": "markdown",
   "id": "1b3f2bdf-c34f-44c0-99a9-57593d3ec60e",
   "metadata": {},
   "source": [
    "Lo anterior es una máscara de True y False"
   ]
  },
  {
   "cell_type": "code",
   "execution_count": 2,
   "id": "6641c6e2-c06e-4ac2-b466-471df28b4541",
   "metadata": {},
   "outputs": [
    {
     "data": {
      "text/html": [
       "<style>\n",
       ".list-inline {list-style: none; margin:0; padding: 0}\n",
       ".list-inline>li {display: inline-block}\n",
       ".list-inline>li:not(:last-child)::after {content: \"\\00b7\"; padding: 0 .5ex}\n",
       "</style>\n",
       "<ol class=list-inline><li>1</li><li>3</li><li>5</li></ol>\n"
      ],
      "text/latex": [
       "\\begin{enumerate*}\n",
       "\\item 1\n",
       "\\item 3\n",
       "\\item 5\n",
       "\\end{enumerate*}\n"
      ],
      "text/markdown": [
       "1. 1\n",
       "2. 3\n",
       "3. 5\n",
       "\n",
       "\n"
      ],
      "text/plain": [
       "[1] 1 3 5"
      ]
     },
     "metadata": {},
     "output_type": "display_data"
    }
   ],
   "source": [
    "Vector<-c(1,2,3,4,5)\n",
    "Vector<-Vector[c(TRUE,FALSE)]\n",
    "Vector"
   ]
  },
  {
   "cell_type": "markdown",
   "id": "ff49eefd-56c9-4dd7-bc80-cb098e243bfc",
   "metadata": {},
   "source": [
    "## Factores\n"
   ]
  },
  {
   "cell_type": "code",
   "execution_count": 5,
   "id": "122ca9f7-84c3-4055-8182-79a50ad1cc51",
   "metadata": {},
   "outputs": [
    {
     "data": {
      "text/html": [
       "<style>\n",
       ".list-inline {list-style: none; margin:0; padding: 0}\n",
       ".list-inline>li {display: inline-block}\n",
       ".list-inline>li:not(:last-child)::after {content: \"\\00b7\"; padding: 0 .5ex}\n",
       "</style>\n",
       "<ol class=list-inline><li>venti</li><li>grande</li><li>mediano</li></ol>\n",
       "\n",
       "<details>\n",
       "\t<summary style=display:list-item;cursor:pointer>\n",
       "\t\t<strong>Levels</strong>:\n",
       "\t</summary>\n",
       "\t<style>\n",
       "\t.list-inline {list-style: none; margin:0; padding: 0}\n",
       "\t.list-inline>li {display: inline-block}\n",
       "\t.list-inline>li:not(:last-child)::after {content: \"\\00b7\"; padding: 0 .5ex}\n",
       "\t</style>\n",
       "\t<ol class=list-inline><li>'grande'</li><li>'mediano'</li><li>'venti'</li></ol>\n",
       "</details>"
      ],
      "text/latex": [
       "\\begin{enumerate*}\n",
       "\\item venti\n",
       "\\item grande\n",
       "\\item mediano\n",
       "\\end{enumerate*}\n",
       "\n",
       "\\emph{Levels}: \\begin{enumerate*}\n",
       "\\item 'grande'\n",
       "\\item 'mediano'\n",
       "\\item 'venti'\n",
       "\\end{enumerate*}\n"
      ],
      "text/markdown": [
       "1. venti\n",
       "2. grande\n",
       "3. mediano\n",
       "\n",
       "\n",
       "\n",
       "**Levels**: 1. 'grande'\n",
       "2. 'mediano'\n",
       "3. 'venti'\n",
       "\n",
       "\n"
      ],
      "text/plain": [
       "[1] venti   grande  mediano\n",
       "Levels: grande mediano venti"
      ]
     },
     "metadata": {},
     "output_type": "display_data"
    },
    {
     "data": {
      "text/html": [
       "'factor'"
      ],
      "text/latex": [
       "'factor'"
      ],
      "text/markdown": [
       "'factor'"
      ],
      "text/plain": [
       "[1] \"factor\""
      ]
     },
     "metadata": {},
     "output_type": "display_data"
    },
    {
     "data": {
      "text/html": [
       "<style>\n",
       ".list-inline {list-style: none; margin:0; padding: 0}\n",
       ".list-inline>li {display: inline-block}\n",
       ".list-inline>li:not(:last-child)::after {content: \"\\00b7\"; padding: 0 .5ex}\n",
       "</style>\n",
       "<ol class=list-inline><li>'grande'</li><li>'mediano'</li><li>'venti'</li></ol>\n"
      ],
      "text/latex": [
       "\\begin{enumerate*}\n",
       "\\item 'grande'\n",
       "\\item 'mediano'\n",
       "\\item 'venti'\n",
       "\\end{enumerate*}\n"
      ],
      "text/markdown": [
       "1. 'grande'\n",
       "2. 'mediano'\n",
       "3. 'venti'\n",
       "\n",
       "\n"
      ],
      "text/plain": [
       "[1] \"grande\"  \"mediano\" \"venti\"  "
      ]
     },
     "metadata": {},
     "output_type": "display_data"
    }
   ],
   "source": [
    "factores<-factor(c(\"venti\",\"grande\",\"mediano\"))\n",
    "factores\n",
    "class(factores)\n",
    "levels(factores)"
   ]
  },
  {
   "cell_type": "markdown",
   "id": "c816b5b6-2b15-4cdb-9caa-4ff32228a399",
   "metadata": {},
   "source": [
    "## Array y Matrices"
   ]
  },
  {
   "cell_type": "code",
   "execution_count": 10,
   "id": "a7334991-0993-4d4b-814b-a5df7e191f38",
   "metadata": {},
   "outputs": [
    {
     "data": {
      "text/html": [
       "<table class=\"dataframe\">\n",
       "<caption>A matrix: 3 × 2 of type dbl</caption>\n",
       "<tbody>\n",
       "\t<tr><td>1</td><td>4</td></tr>\n",
       "\t<tr><td>2</td><td>5</td></tr>\n",
       "\t<tr><td>3</td><td>6</td></tr>\n",
       "</tbody>\n",
       "</table>\n"
      ],
      "text/latex": [
       "A matrix: 3 × 2 of type dbl\n",
       "\\begin{tabular}{ll}\n",
       "\t 1 & 4\\\\\n",
       "\t 2 & 5\\\\\n",
       "\t 3 & 6\\\\\n",
       "\\end{tabular}\n"
      ],
      "text/markdown": [
       "\n",
       "A matrix: 3 × 2 of type dbl\n",
       "\n",
       "| 1 | 4 |\n",
       "| 2 | 5 |\n",
       "| 3 | 6 |\n",
       "\n"
      ],
      "text/plain": [
       "     [,1] [,2]\n",
       "[1,] 1    4   \n",
       "[2,] 2    5   \n",
       "[3,] 3    6   "
      ]
     },
     "metadata": {},
     "output_type": "display_data"
    },
    {
     "data": {
      "text/html": [
       "<table class=\"dataframe\">\n",
       "<caption>A matrix: 3 × 2 of type dbl</caption>\n",
       "<tbody>\n",
       "\t<tr><td>2</td><td> 8</td></tr>\n",
       "\t<tr><td>4</td><td>10</td></tr>\n",
       "\t<tr><td>6</td><td>12</td></tr>\n",
       "</tbody>\n",
       "</table>\n"
      ],
      "text/latex": [
       "A matrix: 3 × 2 of type dbl\n",
       "\\begin{tabular}{ll}\n",
       "\t 2 &  8\\\\\n",
       "\t 4 & 10\\\\\n",
       "\t 6 & 12\\\\\n",
       "\\end{tabular}\n"
      ],
      "text/markdown": [
       "\n",
       "A matrix: 3 × 2 of type dbl\n",
       "\n",
       "| 2 |  8 |\n",
       "| 4 | 10 |\n",
       "| 6 | 12 |\n",
       "\n"
      ],
      "text/plain": [
       "     [,1] [,2]\n",
       "[1,] 2     8  \n",
       "[2,] 4    10  \n",
       "[3,] 6    12  "
      ]
     },
     "metadata": {},
     "output_type": "display_data"
    }
   ],
   "source": [
    "a<-c(1,2,3,4,5,6)\n",
    "dim(a)<-c(3,2)\n",
    "a\n",
    "\n",
    "b<-matrix(c(2,4,6,8,10,12),3,2)\n",
    "b"
   ]
  },
  {
   "cell_type": "markdown",
   "id": "902e7a13-2e77-40f2-83b5-02dd5fb3d283",
   "metadata": {},
   "source": [
    "## Dataframe"
   ]
  },
  {
   "cell_type": "code",
   "execution_count": 12,
   "id": "3b648f32-4947-4aab-a22c-67f28f621d38",
   "metadata": {},
   "outputs": [
    {
     "data": {
      "text/html": [
       "<table class=\"dataframe\">\n",
       "<caption>A data.frame: 3 × 2</caption>\n",
       "<thead>\n",
       "\t<tr><th scope=col>X</th><th scope=col>a</th></tr>\n",
       "\t<tr><th scope=col>&lt;int&gt;</th><th scope=col>&lt;chr&gt;</th></tr>\n",
       "</thead>\n",
       "<tbody>\n",
       "\t<tr><td>1</td><td>a</td></tr>\n",
       "\t<tr><td>2</td><td>b</td></tr>\n",
       "\t<tr><td>3</td><td>c</td></tr>\n",
       "</tbody>\n",
       "</table>\n"
      ],
      "text/latex": [
       "A data.frame: 3 × 2\n",
       "\\begin{tabular}{ll}\n",
       " X & a\\\\\n",
       " <int> & <chr>\\\\\n",
       "\\hline\n",
       "\t 1 & a\\\\\n",
       "\t 2 & b\\\\\n",
       "\t 3 & c\\\\\n",
       "\\end{tabular}\n"
      ],
      "text/markdown": [
       "\n",
       "A data.frame: 3 × 2\n",
       "\n",
       "| X &lt;int&gt; | a &lt;chr&gt; |\n",
       "|---|---|\n",
       "| 1 | a |\n",
       "| 2 | b |\n",
       "| 3 | c |\n",
       "\n"
      ],
      "text/plain": [
       "  X a\n",
       "1 1 a\n",
       "2 2 b\n",
       "3 3 c"
      ]
     },
     "metadata": {},
     "output_type": "display_data"
    },
    {
     "name": "stdout",
     "output_type": "stream",
     "text": [
      "'data.frame':\t3 obs. of  2 variables:\n",
      " $ X: int  1 2 3\n",
      " $ a: chr  \"a\" \"b\" \"c\"\n"
     ]
    }
   ],
   "source": [
    "dataframe<-data.frame(\n",
    "    X=1:3,\n",
    "    a=c(\"a\",\"b\",\"c\")\n",
    "\n",
    ")\n",
    "dataframe\n",
    "str(dataframe)\n"
   ]
  },
  {
   "cell_type": "markdown",
   "id": "38acf02a-7985-45b6-bd8e-9c074fbc180d",
   "metadata": {},
   "source": [
    "# Otros orígenes de datos\n",
    "## Archivos\n",
    "### Achivos locales\n",
    "#### Archivos CSV"
   ]
  },
  {
   "cell_type": "code",
   "execution_count": 16,
   "id": "8337e89e-12c8-4812-b4f5-f90146718e77",
   "metadata": {},
   "outputs": [
    {
     "data": {
      "text/html": [
       "<table class=\"dataframe\">\n",
       "<caption>A data.frame: 33 × 856</caption>\n",
       "<thead>\n",
       "\t<tr><th scope=col>cve_ent</th><th scope=col>poblacion</th><th scope=col>nombre</th><th scope=col>X26.02.2020</th><th scope=col>X27.02.2020</th><th scope=col>X28.02.2020</th><th scope=col>X29.02.2020</th><th scope=col>X01.03.2020</th><th scope=col>X02.03.2020</th><th scope=col>X03.03.2020</th><th scope=col>...</th><th scope=col>X18.06.2022</th><th scope=col>X19.06.2022</th><th scope=col>X20.06.2022</th><th scope=col>X21.06.2022</th><th scope=col>X22.06.2022</th><th scope=col>X23.06.2022</th><th scope=col>X24.06.2022</th><th scope=col>X25.06.2022</th><th scope=col>X26.06.2022</th><th scope=col>X27.06.2022</th></tr>\n",
       "\t<tr><th scope=col>&lt;int&gt;</th><th scope=col>&lt;int&gt;</th><th scope=col>&lt;chr&gt;</th><th scope=col>&lt;int&gt;</th><th scope=col>&lt;int&gt;</th><th scope=col>&lt;int&gt;</th><th scope=col>&lt;int&gt;</th><th scope=col>&lt;int&gt;</th><th scope=col>&lt;int&gt;</th><th scope=col>&lt;int&gt;</th><th scope=col>...</th><th scope=col>&lt;int&gt;</th><th scope=col>&lt;int&gt;</th><th scope=col>&lt;int&gt;</th><th scope=col>&lt;int&gt;</th><th scope=col>&lt;int&gt;</th><th scope=col>&lt;int&gt;</th><th scope=col>&lt;int&gt;</th><th scope=col>&lt;int&gt;</th><th scope=col>&lt;int&gt;</th><th scope=col>&lt;int&gt;</th></tr>\n",
       "</thead>\n",
       "<tbody>\n",
       "\t<tr><td> 1</td><td>  1434635</td><td>AGUASCALIENTES     </td><td>0</td><td>0</td><td>0</td><td>0</td><td>0</td><td>0</td><td>0</td><td>...</td><td>  23</td><td>  11</td><td>  162</td><td>  135</td><td>  141</td><td>  162</td><td>  67</td><td>   3</td><td>   1</td><td>0</td></tr>\n",
       "\t<tr><td> 2</td><td>  3634868</td><td>BAJA CALIFORNIA    </td><td>0</td><td>0</td><td>0</td><td>0</td><td>0</td><td>0</td><td>0</td><td>...</td><td>  43</td><td>  33</td><td>  317</td><td>  364</td><td>  307</td><td>  295</td><td> 183</td><td>  19</td><td>  10</td><td>0</td></tr>\n",
       "\t<tr><td> 3</td><td>   804708</td><td>BAJA CALIFORNIA SUR</td><td>0</td><td>0</td><td>0</td><td>0</td><td>0</td><td>0</td><td>0</td><td>...</td><td>  63</td><td>  52</td><td>  366</td><td>  335</td><td>  366</td><td>  348</td><td> 294</td><td>  43</td><td>  49</td><td>1</td></tr>\n",
       "\t<tr><td> 4</td><td>  1000617</td><td>CAMPECHE           </td><td>0</td><td>0</td><td>0</td><td>0</td><td>0</td><td>0</td><td>0</td><td>...</td><td>  22</td><td>  33</td><td>  108</td><td>   95</td><td>  113</td><td>   91</td><td>  83</td><td>  26</td><td>   2</td><td>0</td></tr>\n",
       "\t<tr><td> 7</td><td>  5730367</td><td>CHIAPAS            </td><td>0</td><td>0</td><td>0</td><td>1</td><td>0</td><td>0</td><td>0</td><td>...</td><td>   3</td><td>   7</td><td>   20</td><td>   16</td><td>   11</td><td>   19</td><td>  17</td><td>   0</td><td>   1</td><td>0</td></tr>\n",
       "\t<tr><td> 8</td><td>  3801487</td><td>CHIHUAHUA          </td><td>0</td><td>0</td><td>0</td><td>0</td><td>0</td><td>0</td><td>0</td><td>...</td><td>  58</td><td>  45</td><td>  242</td><td>  220</td><td>  227</td><td>  208</td><td>  91</td><td>   4</td><td>   1</td><td>0</td></tr>\n",
       "\t<tr><td> 9</td><td>  9018645</td><td>DISTRITO FEDERAL   </td><td>0</td><td>2</td><td>0</td><td>0</td><td>0</td><td>0</td><td>1</td><td>...</td><td>1457</td><td>1160</td><td> 4904</td><td> 4839</td><td> 4919</td><td> 4611</td><td>3478</td><td> 696</td><td> 474</td><td>0</td></tr>\n",
       "\t<tr><td> 5</td><td>  3218720</td><td>COAHUILA           </td><td>0</td><td>0</td><td>1</td><td>0</td><td>0</td><td>0</td><td>1</td><td>...</td><td>  61</td><td>  57</td><td>  266</td><td>  290</td><td>  358</td><td>  325</td><td> 205</td><td>  61</td><td>  43</td><td>0</td></tr>\n",
       "\t<tr><td> 6</td><td>   785153</td><td>COLIMA             </td><td>0</td><td>0</td><td>0</td><td>0</td><td>0</td><td>0</td><td>0</td><td>...</td><td>  24</td><td>  58</td><td>  130</td><td>  147</td><td>  126</td><td>  169</td><td>  61</td><td>  36</td><td>   7</td><td>0</td></tr>\n",
       "\t<tr><td>10</td><td>  1868996</td><td>DURANGO            </td><td>0</td><td>0</td><td>0</td><td>0</td><td>0</td><td>0</td><td>0</td><td>...</td><td>  16</td><td>  22</td><td>  194</td><td>  145</td><td>  191</td><td>  186</td><td> 133</td><td>  24</td><td>  21</td><td>0</td></tr>\n",
       "\t<tr><td>11</td><td>  6228175</td><td>GUANAJUATO         </td><td>0</td><td>0</td><td>0</td><td>0</td><td>1</td><td>3</td><td>3</td><td>...</td><td>  84</td><td> 115</td><td>  396</td><td>  369</td><td>  295</td><td>  288</td><td> 141</td><td>  32</td><td>  22</td><td>0</td></tr>\n",
       "\t<tr><td>12</td><td>  3657048</td><td>GUERRERO           </td><td>0</td><td>0</td><td>0</td><td>0</td><td>0</td><td>0</td><td>0</td><td>...</td><td>  12</td><td>  27</td><td>   76</td><td>   97</td><td>   63</td><td>   56</td><td>  51</td><td>  17</td><td>   9</td><td>0</td></tr>\n",
       "\t<tr><td>13</td><td>  3086414</td><td>HIDALGO            </td><td>0</td><td>1</td><td>0</td><td>0</td><td>0</td><td>0</td><td>0</td><td>...</td><td>  73</td><td>  58</td><td>  251</td><td>  233</td><td>  235</td><td>  261</td><td> 156</td><td>  52</td><td>  54</td><td>0</td></tr>\n",
       "\t<tr><td>14</td><td>  8409693</td><td>JALISCO            </td><td>0</td><td>0</td><td>0</td><td>0</td><td>0</td><td>0</td><td>0</td><td>...</td><td>  97</td><td>  86</td><td>  392</td><td>  374</td><td>  369</td><td>  308</td><td> 161</td><td>  30</td><td>  15</td><td>0</td></tr>\n",
       "\t<tr><td>15</td><td> 17427790</td><td>MEXICO             </td><td>0</td><td>1</td><td>1</td><td>1</td><td>0</td><td>2</td><td>2</td><td>...</td><td> 206</td><td> 185</td><td> 1640</td><td> 1539</td><td> 1697</td><td> 1601</td><td> 809</td><td> 163</td><td>  67</td><td>0</td></tr>\n",
       "\t<tr><td>16</td><td>  4825401</td><td>MICHOACAN          </td><td>0</td><td>0</td><td>0</td><td>0</td><td>0</td><td>0</td><td>0</td><td>...</td><td>  13</td><td>  18</td><td>   95</td><td>   76</td><td>   69</td><td>   89</td><td>  46</td><td>  12</td><td>   7</td><td>0</td></tr>\n",
       "\t<tr><td>17</td><td>  2044058</td><td>MORELOS            </td><td>0</td><td>0</td><td>0</td><td>0</td><td>0</td><td>0</td><td>0</td><td>...</td><td>  23</td><td>   7</td><td>   52</td><td>   73</td><td>   81</td><td>   77</td><td>  27</td><td>  14</td><td>   1</td><td>0</td></tr>\n",
       "\t<tr><td>18</td><td>  1288571</td><td>NAYARIT            </td><td>0</td><td>0</td><td>0</td><td>0</td><td>0</td><td>0</td><td>1</td><td>...</td><td>  44</td><td>  52</td><td>  151</td><td>  125</td><td>  148</td><td>   89</td><td>  46</td><td>   9</td><td>   8</td><td>0</td></tr>\n",
       "\t<tr><td>19</td><td>  5610153</td><td>NUEVO LEON         </td><td>0</td><td>0</td><td>0</td><td>0</td><td>0</td><td>0</td><td>0</td><td>...</td><td> 207</td><td> 179</td><td> 1062</td><td>  998</td><td>  991</td><td>  677</td><td> 427</td><td> 142</td><td>  57</td><td>0</td></tr>\n",
       "\t<tr><td>20</td><td>  4143593</td><td>OAXACA             </td><td>0</td><td>0</td><td>0</td><td>0</td><td>1</td><td>0</td><td>0</td><td>...</td><td>  96</td><td>  77</td><td>  241</td><td>  212</td><td>  214</td><td>  231</td><td> 132</td><td>  83</td><td>  21</td><td>0</td></tr>\n",
       "\t<tr><td>21</td><td>  6604451</td><td>PUEBLA             </td><td>0</td><td>0</td><td>0</td><td>0</td><td>0</td><td>0</td><td>0</td><td>...</td><td>  55</td><td>  49</td><td>  257</td><td>  265</td><td>  335</td><td>  299</td><td> 287</td><td> 101</td><td>  87</td><td>0</td></tr>\n",
       "\t<tr><td>22</td><td>  2279637</td><td>QUERETARO          </td><td>0</td><td>0</td><td>0</td><td>0</td><td>0</td><td>0</td><td>0</td><td>...</td><td>  28</td><td>  57</td><td>  232</td><td>  270</td><td>  298</td><td>  302</td><td> 188</td><td>  72</td><td>  20</td><td>0</td></tr>\n",
       "\t<tr><td>23</td><td>  1723259</td><td>QUINTANA ROO       </td><td>0</td><td>0</td><td>0</td><td>0</td><td>0</td><td>0</td><td>0</td><td>...</td><td> 287</td><td> 271</td><td>  634</td><td>  614</td><td>  641</td><td>  683</td><td> 459</td><td> 243</td><td>  23</td><td>0</td></tr>\n",
       "\t<tr><td>24</td><td>  2866142</td><td>SAN LUIS POTOSI    </td><td>0</td><td>0</td><td>0</td><td>0</td><td>0</td><td>0</td><td>0</td><td>...</td><td>  90</td><td>  71</td><td>  334</td><td>  361</td><td>  326</td><td>  295</td><td> 220</td><td>  36</td><td>  13</td><td>0</td></tr>\n",
       "\t<tr><td>25</td><td>  3156674</td><td>SINALOA            </td><td>0</td><td>0</td><td>0</td><td>0</td><td>0</td><td>0</td><td>0</td><td>...</td><td> 389</td><td> 218</td><td>  846</td><td>  755</td><td>  798</td><td>  645</td><td> 481</td><td>  21</td><td>   9</td><td>0</td></tr>\n",
       "\t<tr><td>26</td><td>  3074745</td><td>SONORA             </td><td>0</td><td>0</td><td>0</td><td>0</td><td>0</td><td>0</td><td>0</td><td>...</td><td>  61</td><td>  54</td><td>  361</td><td>  303</td><td>  353</td><td>  335</td><td> 213</td><td>  48</td><td>  63</td><td>0</td></tr>\n",
       "\t<tr><td>27</td><td>  2572287</td><td>TABASCO            </td><td>0</td><td>0</td><td>0</td><td>0</td><td>0</td><td>0</td><td>0</td><td>...</td><td>  62</td><td>  24</td><td>  183</td><td>  233</td><td>  250</td><td>  299</td><td> 264</td><td> 109</td><td>   7</td><td>0</td></tr>\n",
       "\t<tr><td>28</td><td>  3650602</td><td>TAMAULIPAS         </td><td>0</td><td>0</td><td>0</td><td>0</td><td>0</td><td>0</td><td>0</td><td>...</td><td>  95</td><td> 107</td><td>  360</td><td>  338</td><td>  371</td><td>  297</td><td> 238</td><td>  92</td><td>  47</td><td>0</td></tr>\n",
       "\t<tr><td>29</td><td>  1380011</td><td>TLAXCALA           </td><td>0</td><td>0</td><td>0</td><td>0</td><td>0</td><td>0</td><td>0</td><td>...</td><td>   9</td><td>   6</td><td>   45</td><td>   50</td><td>   53</td><td>   34</td><td>  34</td><td>   1</td><td>   5</td><td>0</td></tr>\n",
       "\t<tr><td>30</td><td>  8539862</td><td>VERACRUZ           </td><td>0</td><td>0</td><td>0</td><td>0</td><td>0</td><td>0</td><td>0</td><td>...</td><td> 124</td><td> 128</td><td>  456</td><td>  429</td><td>  527</td><td>  442</td><td> 318</td><td> 171</td><td>  38</td><td>0</td></tr>\n",
       "\t<tr><td>31</td><td>  2259098</td><td>YUCATAN            </td><td>0</td><td>0</td><td>0</td><td>0</td><td>0</td><td>0</td><td>0</td><td>...</td><td>  97</td><td>  97</td><td>  598</td><td>  567</td><td>  535</td><td>  573</td><td> 374</td><td>  27</td><td>  20</td><td>0</td></tr>\n",
       "\t<tr><td>32</td><td>  1666426</td><td>ZACATECAS          </td><td>0</td><td>0</td><td>0</td><td>0</td><td>0</td><td>0</td><td>1</td><td>...</td><td>   9</td><td>  15</td><td>   88</td><td>  121</td><td>   95</td><td>   92</td><td>  76</td><td>   7</td><td>   2</td><td>0</td></tr>\n",
       "\t<tr><td> 0</td><td>127792286</td><td>Nacional           </td><td>0</td><td>4</td><td>2</td><td>2</td><td>2</td><td>5</td><td>9</td><td>...</td><td>3931</td><td>3379</td><td>15459</td><td>14988</td><td>15503</td><td>14387</td><td>9760</td><td>2394</td><td>1204</td><td>1</td></tr>\n",
       "</tbody>\n",
       "</table>\n"
      ],
      "text/latex": [
       "A data.frame: 33 × 856\n",
       "\\begin{tabular}{lllllllllllllllllllll}\n",
       " cve\\_ent & poblacion & nombre & X26.02.2020 & X27.02.2020 & X28.02.2020 & X29.02.2020 & X01.03.2020 & X02.03.2020 & X03.03.2020 & ... & X18.06.2022 & X19.06.2022 & X20.06.2022 & X21.06.2022 & X22.06.2022 & X23.06.2022 & X24.06.2022 & X25.06.2022 & X26.06.2022 & X27.06.2022\\\\\n",
       " <int> & <int> & <chr> & <int> & <int> & <int> & <int> & <int> & <int> & <int> & ... & <int> & <int> & <int> & <int> & <int> & <int> & <int> & <int> & <int> & <int>\\\\\n",
       "\\hline\n",
       "\t  1 &   1434635 & AGUASCALIENTES      & 0 & 0 & 0 & 0 & 0 & 0 & 0 & ... &   23 &   11 &   162 &   135 &   141 &   162 &   67 &    3 &    1 & 0\\\\\n",
       "\t  2 &   3634868 & BAJA CALIFORNIA     & 0 & 0 & 0 & 0 & 0 & 0 & 0 & ... &   43 &   33 &   317 &   364 &   307 &   295 &  183 &   19 &   10 & 0\\\\\n",
       "\t  3 &    804708 & BAJA CALIFORNIA SUR & 0 & 0 & 0 & 0 & 0 & 0 & 0 & ... &   63 &   52 &   366 &   335 &   366 &   348 &  294 &   43 &   49 & 1\\\\\n",
       "\t  4 &   1000617 & CAMPECHE            & 0 & 0 & 0 & 0 & 0 & 0 & 0 & ... &   22 &   33 &   108 &    95 &   113 &    91 &   83 &   26 &    2 & 0\\\\\n",
       "\t  7 &   5730367 & CHIAPAS             & 0 & 0 & 0 & 1 & 0 & 0 & 0 & ... &    3 &    7 &    20 &    16 &    11 &    19 &   17 &    0 &    1 & 0\\\\\n",
       "\t  8 &   3801487 & CHIHUAHUA           & 0 & 0 & 0 & 0 & 0 & 0 & 0 & ... &   58 &   45 &   242 &   220 &   227 &   208 &   91 &    4 &    1 & 0\\\\\n",
       "\t  9 &   9018645 & DISTRITO FEDERAL    & 0 & 2 & 0 & 0 & 0 & 0 & 1 & ... & 1457 & 1160 &  4904 &  4839 &  4919 &  4611 & 3478 &  696 &  474 & 0\\\\\n",
       "\t  5 &   3218720 & COAHUILA            & 0 & 0 & 1 & 0 & 0 & 0 & 1 & ... &   61 &   57 &   266 &   290 &   358 &   325 &  205 &   61 &   43 & 0\\\\\n",
       "\t  6 &    785153 & COLIMA              & 0 & 0 & 0 & 0 & 0 & 0 & 0 & ... &   24 &   58 &   130 &   147 &   126 &   169 &   61 &   36 &    7 & 0\\\\\n",
       "\t 10 &   1868996 & DURANGO             & 0 & 0 & 0 & 0 & 0 & 0 & 0 & ... &   16 &   22 &   194 &   145 &   191 &   186 &  133 &   24 &   21 & 0\\\\\n",
       "\t 11 &   6228175 & GUANAJUATO          & 0 & 0 & 0 & 0 & 1 & 3 & 3 & ... &   84 &  115 &   396 &   369 &   295 &   288 &  141 &   32 &   22 & 0\\\\\n",
       "\t 12 &   3657048 & GUERRERO            & 0 & 0 & 0 & 0 & 0 & 0 & 0 & ... &   12 &   27 &    76 &    97 &    63 &    56 &   51 &   17 &    9 & 0\\\\\n",
       "\t 13 &   3086414 & HIDALGO             & 0 & 1 & 0 & 0 & 0 & 0 & 0 & ... &   73 &   58 &   251 &   233 &   235 &   261 &  156 &   52 &   54 & 0\\\\\n",
       "\t 14 &   8409693 & JALISCO             & 0 & 0 & 0 & 0 & 0 & 0 & 0 & ... &   97 &   86 &   392 &   374 &   369 &   308 &  161 &   30 &   15 & 0\\\\\n",
       "\t 15 &  17427790 & MEXICO              & 0 & 1 & 1 & 1 & 0 & 2 & 2 & ... &  206 &  185 &  1640 &  1539 &  1697 &  1601 &  809 &  163 &   67 & 0\\\\\n",
       "\t 16 &   4825401 & MICHOACAN           & 0 & 0 & 0 & 0 & 0 & 0 & 0 & ... &   13 &   18 &    95 &    76 &    69 &    89 &   46 &   12 &    7 & 0\\\\\n",
       "\t 17 &   2044058 & MORELOS             & 0 & 0 & 0 & 0 & 0 & 0 & 0 & ... &   23 &    7 &    52 &    73 &    81 &    77 &   27 &   14 &    1 & 0\\\\\n",
       "\t 18 &   1288571 & NAYARIT             & 0 & 0 & 0 & 0 & 0 & 0 & 1 & ... &   44 &   52 &   151 &   125 &   148 &    89 &   46 &    9 &    8 & 0\\\\\n",
       "\t 19 &   5610153 & NUEVO LEON          & 0 & 0 & 0 & 0 & 0 & 0 & 0 & ... &  207 &  179 &  1062 &   998 &   991 &   677 &  427 &  142 &   57 & 0\\\\\n",
       "\t 20 &   4143593 & OAXACA              & 0 & 0 & 0 & 0 & 1 & 0 & 0 & ... &   96 &   77 &   241 &   212 &   214 &   231 &  132 &   83 &   21 & 0\\\\\n",
       "\t 21 &   6604451 & PUEBLA              & 0 & 0 & 0 & 0 & 0 & 0 & 0 & ... &   55 &   49 &   257 &   265 &   335 &   299 &  287 &  101 &   87 & 0\\\\\n",
       "\t 22 &   2279637 & QUERETARO           & 0 & 0 & 0 & 0 & 0 & 0 & 0 & ... &   28 &   57 &   232 &   270 &   298 &   302 &  188 &   72 &   20 & 0\\\\\n",
       "\t 23 &   1723259 & QUINTANA ROO        & 0 & 0 & 0 & 0 & 0 & 0 & 0 & ... &  287 &  271 &   634 &   614 &   641 &   683 &  459 &  243 &   23 & 0\\\\\n",
       "\t 24 &   2866142 & SAN LUIS POTOSI     & 0 & 0 & 0 & 0 & 0 & 0 & 0 & ... &   90 &   71 &   334 &   361 &   326 &   295 &  220 &   36 &   13 & 0\\\\\n",
       "\t 25 &   3156674 & SINALOA             & 0 & 0 & 0 & 0 & 0 & 0 & 0 & ... &  389 &  218 &   846 &   755 &   798 &   645 &  481 &   21 &    9 & 0\\\\\n",
       "\t 26 &   3074745 & SONORA              & 0 & 0 & 0 & 0 & 0 & 0 & 0 & ... &   61 &   54 &   361 &   303 &   353 &   335 &  213 &   48 &   63 & 0\\\\\n",
       "\t 27 &   2572287 & TABASCO             & 0 & 0 & 0 & 0 & 0 & 0 & 0 & ... &   62 &   24 &   183 &   233 &   250 &   299 &  264 &  109 &    7 & 0\\\\\n",
       "\t 28 &   3650602 & TAMAULIPAS          & 0 & 0 & 0 & 0 & 0 & 0 & 0 & ... &   95 &  107 &   360 &   338 &   371 &   297 &  238 &   92 &   47 & 0\\\\\n",
       "\t 29 &   1380011 & TLAXCALA            & 0 & 0 & 0 & 0 & 0 & 0 & 0 & ... &    9 &    6 &    45 &    50 &    53 &    34 &   34 &    1 &    5 & 0\\\\\n",
       "\t 30 &   8539862 & VERACRUZ            & 0 & 0 & 0 & 0 & 0 & 0 & 0 & ... &  124 &  128 &   456 &   429 &   527 &   442 &  318 &  171 &   38 & 0\\\\\n",
       "\t 31 &   2259098 & YUCATAN             & 0 & 0 & 0 & 0 & 0 & 0 & 0 & ... &   97 &   97 &   598 &   567 &   535 &   573 &  374 &   27 &   20 & 0\\\\\n",
       "\t 32 &   1666426 & ZACATECAS           & 0 & 0 & 0 & 0 & 0 & 0 & 1 & ... &    9 &   15 &    88 &   121 &    95 &    92 &   76 &    7 &    2 & 0\\\\\n",
       "\t  0 & 127792286 & Nacional            & 0 & 4 & 2 & 2 & 2 & 5 & 9 & ... & 3931 & 3379 & 15459 & 14988 & 15503 & 14387 & 9760 & 2394 & 1204 & 1\\\\\n",
       "\\end{tabular}\n"
      ],
      "text/markdown": [
       "\n",
       "A data.frame: 33 × 856\n",
       "\n",
       "| cve_ent &lt;int&gt; | poblacion &lt;int&gt; | nombre &lt;chr&gt; | X26.02.2020 &lt;int&gt; | X27.02.2020 &lt;int&gt; | X28.02.2020 &lt;int&gt; | X29.02.2020 &lt;int&gt; | X01.03.2020 &lt;int&gt; | X02.03.2020 &lt;int&gt; | X03.03.2020 &lt;int&gt; | ... ... | X18.06.2022 &lt;int&gt; | X19.06.2022 &lt;int&gt; | X20.06.2022 &lt;int&gt; | X21.06.2022 &lt;int&gt; | X22.06.2022 &lt;int&gt; | X23.06.2022 &lt;int&gt; | X24.06.2022 &lt;int&gt; | X25.06.2022 &lt;int&gt; | X26.06.2022 &lt;int&gt; | X27.06.2022 &lt;int&gt; |\n",
       "|---|---|---|---|---|---|---|---|---|---|---|---|---|---|---|---|---|---|---|---|---|\n",
       "|  1 |   1434635 | AGUASCALIENTES      | 0 | 0 | 0 | 0 | 0 | 0 | 0 | ... |   23 |   11 |   162 |   135 |   141 |   162 |   67 |    3 |    1 | 0 |\n",
       "|  2 |   3634868 | BAJA CALIFORNIA     | 0 | 0 | 0 | 0 | 0 | 0 | 0 | ... |   43 |   33 |   317 |   364 |   307 |   295 |  183 |   19 |   10 | 0 |\n",
       "|  3 |    804708 | BAJA CALIFORNIA SUR | 0 | 0 | 0 | 0 | 0 | 0 | 0 | ... |   63 |   52 |   366 |   335 |   366 |   348 |  294 |   43 |   49 | 1 |\n",
       "|  4 |   1000617 | CAMPECHE            | 0 | 0 | 0 | 0 | 0 | 0 | 0 | ... |   22 |   33 |   108 |    95 |   113 |    91 |   83 |   26 |    2 | 0 |\n",
       "|  7 |   5730367 | CHIAPAS             | 0 | 0 | 0 | 1 | 0 | 0 | 0 | ... |    3 |    7 |    20 |    16 |    11 |    19 |   17 |    0 |    1 | 0 |\n",
       "|  8 |   3801487 | CHIHUAHUA           | 0 | 0 | 0 | 0 | 0 | 0 | 0 | ... |   58 |   45 |   242 |   220 |   227 |   208 |   91 |    4 |    1 | 0 |\n",
       "|  9 |   9018645 | DISTRITO FEDERAL    | 0 | 2 | 0 | 0 | 0 | 0 | 1 | ... | 1457 | 1160 |  4904 |  4839 |  4919 |  4611 | 3478 |  696 |  474 | 0 |\n",
       "|  5 |   3218720 | COAHUILA            | 0 | 0 | 1 | 0 | 0 | 0 | 1 | ... |   61 |   57 |   266 |   290 |   358 |   325 |  205 |   61 |   43 | 0 |\n",
       "|  6 |    785153 | COLIMA              | 0 | 0 | 0 | 0 | 0 | 0 | 0 | ... |   24 |   58 |   130 |   147 |   126 |   169 |   61 |   36 |    7 | 0 |\n",
       "| 10 |   1868996 | DURANGO             | 0 | 0 | 0 | 0 | 0 | 0 | 0 | ... |   16 |   22 |   194 |   145 |   191 |   186 |  133 |   24 |   21 | 0 |\n",
       "| 11 |   6228175 | GUANAJUATO          | 0 | 0 | 0 | 0 | 1 | 3 | 3 | ... |   84 |  115 |   396 |   369 |   295 |   288 |  141 |   32 |   22 | 0 |\n",
       "| 12 |   3657048 | GUERRERO            | 0 | 0 | 0 | 0 | 0 | 0 | 0 | ... |   12 |   27 |    76 |    97 |    63 |    56 |   51 |   17 |    9 | 0 |\n",
       "| 13 |   3086414 | HIDALGO             | 0 | 1 | 0 | 0 | 0 | 0 | 0 | ... |   73 |   58 |   251 |   233 |   235 |   261 |  156 |   52 |   54 | 0 |\n",
       "| 14 |   8409693 | JALISCO             | 0 | 0 | 0 | 0 | 0 | 0 | 0 | ... |   97 |   86 |   392 |   374 |   369 |   308 |  161 |   30 |   15 | 0 |\n",
       "| 15 |  17427790 | MEXICO              | 0 | 1 | 1 | 1 | 0 | 2 | 2 | ... |  206 |  185 |  1640 |  1539 |  1697 |  1601 |  809 |  163 |   67 | 0 |\n",
       "| 16 |   4825401 | MICHOACAN           | 0 | 0 | 0 | 0 | 0 | 0 | 0 | ... |   13 |   18 |    95 |    76 |    69 |    89 |   46 |   12 |    7 | 0 |\n",
       "| 17 |   2044058 | MORELOS             | 0 | 0 | 0 | 0 | 0 | 0 | 0 | ... |   23 |    7 |    52 |    73 |    81 |    77 |   27 |   14 |    1 | 0 |\n",
       "| 18 |   1288571 | NAYARIT             | 0 | 0 | 0 | 0 | 0 | 0 | 1 | ... |   44 |   52 |   151 |   125 |   148 |    89 |   46 |    9 |    8 | 0 |\n",
       "| 19 |   5610153 | NUEVO LEON          | 0 | 0 | 0 | 0 | 0 | 0 | 0 | ... |  207 |  179 |  1062 |   998 |   991 |   677 |  427 |  142 |   57 | 0 |\n",
       "| 20 |   4143593 | OAXACA              | 0 | 0 | 0 | 0 | 1 | 0 | 0 | ... |   96 |   77 |   241 |   212 |   214 |   231 |  132 |   83 |   21 | 0 |\n",
       "| 21 |   6604451 | PUEBLA              | 0 | 0 | 0 | 0 | 0 | 0 | 0 | ... |   55 |   49 |   257 |   265 |   335 |   299 |  287 |  101 |   87 | 0 |\n",
       "| 22 |   2279637 | QUERETARO           | 0 | 0 | 0 | 0 | 0 | 0 | 0 | ... |   28 |   57 |   232 |   270 |   298 |   302 |  188 |   72 |   20 | 0 |\n",
       "| 23 |   1723259 | QUINTANA ROO        | 0 | 0 | 0 | 0 | 0 | 0 | 0 | ... |  287 |  271 |   634 |   614 |   641 |   683 |  459 |  243 |   23 | 0 |\n",
       "| 24 |   2866142 | SAN LUIS POTOSI     | 0 | 0 | 0 | 0 | 0 | 0 | 0 | ... |   90 |   71 |   334 |   361 |   326 |   295 |  220 |   36 |   13 | 0 |\n",
       "| 25 |   3156674 | SINALOA             | 0 | 0 | 0 | 0 | 0 | 0 | 0 | ... |  389 |  218 |   846 |   755 |   798 |   645 |  481 |   21 |    9 | 0 |\n",
       "| 26 |   3074745 | SONORA              | 0 | 0 | 0 | 0 | 0 | 0 | 0 | ... |   61 |   54 |   361 |   303 |   353 |   335 |  213 |   48 |   63 | 0 |\n",
       "| 27 |   2572287 | TABASCO             | 0 | 0 | 0 | 0 | 0 | 0 | 0 | ... |   62 |   24 |   183 |   233 |   250 |   299 |  264 |  109 |    7 | 0 |\n",
       "| 28 |   3650602 | TAMAULIPAS          | 0 | 0 | 0 | 0 | 0 | 0 | 0 | ... |   95 |  107 |   360 |   338 |   371 |   297 |  238 |   92 |   47 | 0 |\n",
       "| 29 |   1380011 | TLAXCALA            | 0 | 0 | 0 | 0 | 0 | 0 | 0 | ... |    9 |    6 |    45 |    50 |    53 |    34 |   34 |    1 |    5 | 0 |\n",
       "| 30 |   8539862 | VERACRUZ            | 0 | 0 | 0 | 0 | 0 | 0 | 0 | ... |  124 |  128 |   456 |   429 |   527 |   442 |  318 |  171 |   38 | 0 |\n",
       "| 31 |   2259098 | YUCATAN             | 0 | 0 | 0 | 0 | 0 | 0 | 0 | ... |   97 |   97 |   598 |   567 |   535 |   573 |  374 |   27 |   20 | 0 |\n",
       "| 32 |   1666426 | ZACATECAS           | 0 | 0 | 0 | 0 | 0 | 0 | 1 | ... |    9 |   15 |    88 |   121 |    95 |    92 |   76 |    7 |    2 | 0 |\n",
       "|  0 | 127792286 | Nacional            | 0 | 4 | 2 | 2 | 2 | 5 | 9 | ... | 3931 | 3379 | 15459 | 14988 | 15503 | 14387 | 9760 | 2394 | 1204 | 1 |\n",
       "\n"
      ],
      "text/plain": [
       "   cve_ent poblacion nombre              X26.02.2020 X27.02.2020 X28.02.2020\n",
       "1   1        1434635 AGUASCALIENTES      0           0           0          \n",
       "2   2        3634868 BAJA CALIFORNIA     0           0           0          \n",
       "3   3         804708 BAJA CALIFORNIA SUR 0           0           0          \n",
       "4   4        1000617 CAMPECHE            0           0           0          \n",
       "5   7        5730367 CHIAPAS             0           0           0          \n",
       "6   8        3801487 CHIHUAHUA           0           0           0          \n",
       "7   9        9018645 DISTRITO FEDERAL    0           2           0          \n",
       "8   5        3218720 COAHUILA            0           0           1          \n",
       "9   6         785153 COLIMA              0           0           0          \n",
       "10 10        1868996 DURANGO             0           0           0          \n",
       "11 11        6228175 GUANAJUATO          0           0           0          \n",
       "12 12        3657048 GUERRERO            0           0           0          \n",
       "13 13        3086414 HIDALGO             0           1           0          \n",
       "14 14        8409693 JALISCO             0           0           0          \n",
       "15 15       17427790 MEXICO              0           1           1          \n",
       "16 16        4825401 MICHOACAN           0           0           0          \n",
       "17 17        2044058 MORELOS             0           0           0          \n",
       "18 18        1288571 NAYARIT             0           0           0          \n",
       "19 19        5610153 NUEVO LEON          0           0           0          \n",
       "20 20        4143593 OAXACA              0           0           0          \n",
       "21 21        6604451 PUEBLA              0           0           0          \n",
       "22 22        2279637 QUERETARO           0           0           0          \n",
       "23 23        1723259 QUINTANA ROO        0           0           0          \n",
       "24 24        2866142 SAN LUIS POTOSI     0           0           0          \n",
       "25 25        3156674 SINALOA             0           0           0          \n",
       "26 26        3074745 SONORA              0           0           0          \n",
       "27 27        2572287 TABASCO             0           0           0          \n",
       "28 28        3650602 TAMAULIPAS          0           0           0          \n",
       "29 29        1380011 TLAXCALA            0           0           0          \n",
       "30 30        8539862 VERACRUZ            0           0           0          \n",
       "31 31        2259098 YUCATAN             0           0           0          \n",
       "32 32        1666426 ZACATECAS           0           0           0          \n",
       "33  0      127792286 Nacional            0           4           2          \n",
       "   X29.02.2020 X01.03.2020 X02.03.2020 X03.03.2020 ... X18.06.2022 X19.06.2022\n",
       "1  0           0           0           0           ...   23          11       \n",
       "2  0           0           0           0           ...   43          33       \n",
       "3  0           0           0           0           ...   63          52       \n",
       "4  0           0           0           0           ...   22          33       \n",
       "5  1           0           0           0           ...    3           7       \n",
       "6  0           0           0           0           ...   58          45       \n",
       "7  0           0           0           1           ... 1457        1160       \n",
       "8  0           0           0           1           ...   61          57       \n",
       "9  0           0           0           0           ...   24          58       \n",
       "10 0           0           0           0           ...   16          22       \n",
       "11 0           1           3           3           ...   84         115       \n",
       "12 0           0           0           0           ...   12          27       \n",
       "13 0           0           0           0           ...   73          58       \n",
       "14 0           0           0           0           ...   97          86       \n",
       "15 1           0           2           2           ...  206         185       \n",
       "16 0           0           0           0           ...   13          18       \n",
       "17 0           0           0           0           ...   23           7       \n",
       "18 0           0           0           1           ...   44          52       \n",
       "19 0           0           0           0           ...  207         179       \n",
       "20 0           1           0           0           ...   96          77       \n",
       "21 0           0           0           0           ...   55          49       \n",
       "22 0           0           0           0           ...   28          57       \n",
       "23 0           0           0           0           ...  287         271       \n",
       "24 0           0           0           0           ...   90          71       \n",
       "25 0           0           0           0           ...  389         218       \n",
       "26 0           0           0           0           ...   61          54       \n",
       "27 0           0           0           0           ...   62          24       \n",
       "28 0           0           0           0           ...   95         107       \n",
       "29 0           0           0           0           ...    9           6       \n",
       "30 0           0           0           0           ...  124         128       \n",
       "31 0           0           0           0           ...   97          97       \n",
       "32 0           0           0           1           ...    9          15       \n",
       "33 2           2           5           9           ... 3931        3379       \n",
       "   X20.06.2022 X21.06.2022 X22.06.2022 X23.06.2022 X24.06.2022 X25.06.2022\n",
       "1    162         135         141         162         67           3       \n",
       "2    317         364         307         295        183          19       \n",
       "3    366         335         366         348        294          43       \n",
       "4    108          95         113          91         83          26       \n",
       "5     20          16          11          19         17           0       \n",
       "6    242         220         227         208         91           4       \n",
       "7   4904        4839        4919        4611       3478         696       \n",
       "8    266         290         358         325        205          61       \n",
       "9    130         147         126         169         61          36       \n",
       "10   194         145         191         186        133          24       \n",
       "11   396         369         295         288        141          32       \n",
       "12    76          97          63          56         51          17       \n",
       "13   251         233         235         261        156          52       \n",
       "14   392         374         369         308        161          30       \n",
       "15  1640        1539        1697        1601        809         163       \n",
       "16    95          76          69          89         46          12       \n",
       "17    52          73          81          77         27          14       \n",
       "18   151         125         148          89         46           9       \n",
       "19  1062         998         991         677        427         142       \n",
       "20   241         212         214         231        132          83       \n",
       "21   257         265         335         299        287         101       \n",
       "22   232         270         298         302        188          72       \n",
       "23   634         614         641         683        459         243       \n",
       "24   334         361         326         295        220          36       \n",
       "25   846         755         798         645        481          21       \n",
       "26   361         303         353         335        213          48       \n",
       "27   183         233         250         299        264         109       \n",
       "28   360         338         371         297        238          92       \n",
       "29    45          50          53          34         34           1       \n",
       "30   456         429         527         442        318         171       \n",
       "31   598         567         535         573        374          27       \n",
       "32    88         121          95          92         76           7       \n",
       "33 15459       14988       15503       14387       9760        2394       \n",
       "   X26.06.2022 X27.06.2022\n",
       "1     1        0          \n",
       "2    10        0          \n",
       "3    49        1          \n",
       "4     2        0          \n",
       "5     1        0          \n",
       "6     1        0          \n",
       "7   474        0          \n",
       "8    43        0          \n",
       "9     7        0          \n",
       "10   21        0          \n",
       "11   22        0          \n",
       "12    9        0          \n",
       "13   54        0          \n",
       "14   15        0          \n",
       "15   67        0          \n",
       "16    7        0          \n",
       "17    1        0          \n",
       "18    8        0          \n",
       "19   57        0          \n",
       "20   21        0          \n",
       "21   87        0          \n",
       "22   20        0          \n",
       "23   23        0          \n",
       "24   13        0          \n",
       "25    9        0          \n",
       "26   63        0          \n",
       "27    7        0          \n",
       "28   47        0          \n",
       "29    5        0          \n",
       "30   38        0          \n",
       "31   20        0          \n",
       "32    2        0          \n",
       "33 1204        1          "
      ]
     },
     "metadata": {},
     "output_type": "display_data"
    }
   ],
   "source": [
    "archivo<-read.csv(file=\"C:/Users/FelicidadPS/OneDrive/Documentos/capacitación/MachineLearning/Materiales_Intro_ML_R-main/Materiales_Intro_ML_R-main/Clase 2/Casos_Diarios_Estado_Nacional.csv\")\n",
    "archivo"
   ]
  },
  {
   "cell_type": "markdown",
   "id": "1d5ce4f5-5cc9-4306-bbe2-00ffc1f0eb32",
   "metadata": {},
   "source": [
    "Para xlxs hay que instalar y mandar llamar la paquetería"
   ]
  },
  {
   "cell_type": "code",
   "execution_count": null,
   "id": "2ba0bb96-7791-439e-882e-00d6a0cc2939",
   "metadata": {},
   "outputs": [],
   "source": [
    "download.file"
   ]
  },
  {
   "cell_type": "markdown",
   "id": "a327bf10-e11b-4bb1-9a17-ac63a090f917",
   "metadata": {},
   "source": [
    "#### Desde Internet"
   ]
  },
  {
   "cell_type": "code",
   "execution_count": 19,
   "id": "3439d247-923e-44b1-a691-106cdc1cb9f5",
   "metadata": {},
   "outputs": [
    {
     "data": {
      "text/html": [
       "<style>\n",
       ".list-inline {list-style: none; margin:0; padding: 0}\n",
       ".list-inline>li {display: inline-block}\n",
       ".list-inline>li:not(:last-child)::after {content: \"\\00b7\"; padding: 0 .5ex}\n",
       "</style>\n",
       "<ol class=list-inline><li>'Frank da Cruz'</li><li>'The New Deal in New\\nYork City 1933-1943'</li><li>'The History of\\nComputing at Columbia University 1890-2005'</li><li>'The Washington\\nDC Nation Mall in World War II'</li><li>'Arlington,\\nVirginia, 1956-61: The Hall\\'s Hill Segregation Wall'</li><li>'Frankfurt,\\nGermany, 1959-61'</li><li>'Creating a Web Page'</li><li>'HTML Syntax'</li><li>'Special Characters'</li><li>'Converting Plain Text to HTML'</li><li>'Effects'</li><li>'Lists'</li><li>'Links'</li><li>'Tables'</li><li>'Viewing your Web page'</li><li>'Installing your Web Page on the Internet'</li><li>'Where to go from here'</li><li>'Postscript: Cell Phones'</li><li>'Unix'</li><li>'Panix.com'</li><li>'Later'</li><li>'HTML'</li><li>'here'</li><li>'UTF-8'</li><li>'below'</li><li>'CLICK HERE'</li><li>'UTF-8'</li><li>'Kermit'</li><li>'HERE'</li><li>'Table of Contents'</li><li>'Kermit\\nProject home page'</li><li>'Section 6'</li><li>'Section 4.0'</li><li>'C-Kermit for Unix\\nInstallation Instructions'</li><li>'CLICK HERE'</li><li>'table\\nattributes'</li><li>'Kermit'</li><li>'CNN'</li><li>'HTML\\n5.2 specification'</li><li>'Cascading\\nStyle Sheets'</li><li>'W3C Markup Validation Service'</li><li>'Frank da Cruz'</li></ol>\n"
      ],
      "text/latex": [
       "\\begin{enumerate*}\n",
       "\\item 'Frank da Cruz'\n",
       "\\item 'The New Deal in New\\textbackslash{}nYork City 1933-1943'\n",
       "\\item 'The History of\\textbackslash{}nComputing at Columbia University 1890-2005'\n",
       "\\item 'The Washington\\textbackslash{}nDC Nation Mall in World War II'\n",
       "\\item 'Arlington,\\textbackslash{}nVirginia, 1956-61: The Hall\\textbackslash{}'s Hill Segregation Wall'\n",
       "\\item 'Frankfurt,\\textbackslash{}nGermany, 1959-61'\n",
       "\\item 'Creating a Web Page'\n",
       "\\item 'HTML Syntax'\n",
       "\\item 'Special Characters'\n",
       "\\item 'Converting Plain Text to HTML'\n",
       "\\item 'Effects'\n",
       "\\item 'Lists'\n",
       "\\item 'Links'\n",
       "\\item 'Tables'\n",
       "\\item 'Viewing your Web page'\n",
       "\\item 'Installing your Web Page on the Internet'\n",
       "\\item 'Where to go from here'\n",
       "\\item 'Postscript: Cell Phones'\n",
       "\\item 'Unix'\n",
       "\\item 'Panix.com'\n",
       "\\item 'Later'\n",
       "\\item 'HTML'\n",
       "\\item 'here'\n",
       "\\item 'UTF-8'\n",
       "\\item 'below'\n",
       "\\item 'CLICK HERE'\n",
       "\\item 'UTF-8'\n",
       "\\item 'Kermit'\n",
       "\\item 'HERE'\n",
       "\\item 'Table of Contents'\n",
       "\\item 'Kermit\\textbackslash{}nProject home page'\n",
       "\\item 'Section 6'\n",
       "\\item 'Section 4.0'\n",
       "\\item 'C-Kermit for Unix\\textbackslash{}nInstallation Instructions'\n",
       "\\item 'CLICK HERE'\n",
       "\\item 'table\\textbackslash{}nattributes'\n",
       "\\item 'Kermit'\n",
       "\\item 'CNN'\n",
       "\\item 'HTML\\textbackslash{}n5.2 specification'\n",
       "\\item 'Cascading\\textbackslash{}nStyle Sheets'\n",
       "\\item 'W3C Markup Validation Service'\n",
       "\\item 'Frank da Cruz'\n",
       "\\end{enumerate*}\n"
      ],
      "text/markdown": [
       "1. 'Frank da Cruz'\n",
       "2. 'The New Deal in New\\nYork City 1933-1943'\n",
       "3. 'The History of\\nComputing at Columbia University 1890-2005'\n",
       "4. 'The Washington\\nDC Nation Mall in World War II'\n",
       "5. 'Arlington,\\nVirginia, 1956-61: The Hall\\'s Hill Segregation Wall'\n",
       "6. 'Frankfurt,\\nGermany, 1959-61'\n",
       "7. 'Creating a Web Page'\n",
       "8. 'HTML Syntax'\n",
       "9. 'Special Characters'\n",
       "10. 'Converting Plain Text to HTML'\n",
       "11. 'Effects'\n",
       "12. 'Lists'\n",
       "13. 'Links'\n",
       "14. 'Tables'\n",
       "15. 'Viewing your Web page'\n",
       "16. 'Installing your Web Page on the Internet'\n",
       "17. 'Where to go from here'\n",
       "18. 'Postscript: Cell Phones'\n",
       "19. 'Unix'\n",
       "20. 'Panix.com'\n",
       "21. 'Later'\n",
       "22. 'HTML'\n",
       "23. 'here'\n",
       "24. 'UTF-8'\n",
       "25. 'below'\n",
       "26. 'CLICK HERE'\n",
       "27. 'UTF-8'\n",
       "28. 'Kermit'\n",
       "29. 'HERE'\n",
       "30. 'Table of Contents'\n",
       "31. 'Kermit\\nProject home page'\n",
       "32. 'Section 6'\n",
       "33. 'Section 4.0'\n",
       "34. 'C-Kermit for Unix\\nInstallation Instructions'\n",
       "35. 'CLICK HERE'\n",
       "36. 'table\\nattributes'\n",
       "37. 'Kermit'\n",
       "38. 'CNN'\n",
       "39. 'HTML\\n5.2 specification'\n",
       "40. 'Cascading\\nStyle Sheets'\n",
       "41. 'W3C Markup Validation Service'\n",
       "42. 'Frank da Cruz'\n",
       "\n",
       "\n"
      ],
      "text/plain": [
       " [1] \"Frank da Cruz\"                                                  \n",
       " [2] \"The New Deal in New\\nYork City 1933-1943\"                       \n",
       " [3] \"The History of\\nComputing at Columbia University 1890-2005\"     \n",
       " [4] \"The Washington\\nDC Nation Mall in World War II\"                 \n",
       " [5] \"Arlington,\\nVirginia, 1956-61: The Hall's Hill Segregation Wall\"\n",
       " [6] \"Frankfurt,\\nGermany, 1959-61\"                                   \n",
       " [7] \"Creating a Web Page\"                                            \n",
       " [8] \"HTML Syntax\"                                                    \n",
       " [9] \"Special Characters\"                                             \n",
       "[10] \"Converting Plain Text to HTML\"                                  \n",
       "[11] \"Effects\"                                                        \n",
       "[12] \"Lists\"                                                          \n",
       "[13] \"Links\"                                                          \n",
       "[14] \"Tables\"                                                         \n",
       "[15] \"Viewing your Web page\"                                          \n",
       "[16] \"Installing your Web Page on the Internet\"                       \n",
       "[17] \"Where to go from here\"                                          \n",
       "[18] \"Postscript: Cell Phones\"                                        \n",
       "[19] \"Unix\"                                                           \n",
       "[20] \"Panix.com\"                                                      \n",
       "[21] \"Later\"                                                          \n",
       "[22] \"HTML\"                                                           \n",
       "[23] \"here\"                                                           \n",
       "[24] \"UTF-8\"                                                          \n",
       "[25] \"below\"                                                          \n",
       "[26] \"CLICK HERE\"                                                     \n",
       "[27] \"UTF-8\"                                                          \n",
       "[28] \"Kermit\"                                                         \n",
       "[29] \"HERE\"                                                           \n",
       "[30] \"Table of Contents\"                                              \n",
       "[31] \"Kermit\\nProject home page\"                                      \n",
       "[32] \"Section 6\"                                                      \n",
       "[33] \"Section 4.0\"                                                    \n",
       "[34] \"C-Kermit for Unix\\nInstallation Instructions\"                   \n",
       "[35] \"CLICK HERE\"                                                     \n",
       "[36] \"table\\nattributes\"                                              \n",
       "[37] \"Kermit\"                                                         \n",
       "[38] \"CNN\"                                                            \n",
       "[39] \"HTML\\n5.2 specification\"                                        \n",
       "[40] \"Cascading\\nStyle Sheets\"                                        \n",
       "[41] \"W3C Markup Validation Service\"                                  \n",
       "[42] \"Frank da Cruz\"                                                  "
      ]
     },
     "metadata": {},
     "output_type": "display_data"
    },
    {
     "data": {
      "text/plain": [
       "{xml_nodeset (1)}\n",
       "[1] <a href=\"http://www.columbia.edu/~fdc/\">Frank da Cruz</a>"
      ]
     },
     "metadata": {},
     "output_type": "display_data"
    }
   ],
   "source": [
    "library(rvest)\n",
    "url<-\"http://www.columbia.edu/~fdc/sample.html\"\n",
    "html<-read_html(url)\n",
    "html2<-html_nodes(html,'a')\n",
    "html_text(html2,trim=FALSE)\n",
    "html2[1]"
   ]
  },
  {
   "cell_type": "markdown",
   "id": "fcdf0829-d22a-4fb1-bd0b-bd2c4b9a47d2",
   "metadata": {},
   "source": [
    "#### Web service"
   ]
  },
  {
   "cell_type": "code",
   "execution_count": 23,
   "id": "3532b946-d147-4201-8361-052e44f0548c",
   "metadata": {},
   "outputs": [
    {
     "data": {
      "text/html": [
       "'{\"Response\":\"correct\",\"Curp\":\"PESF841031MDGRLL00\",\"DatosFiscales\":{\"Rfc\":\"PESF841031TU8\",\"Comprobado\":0,\"Sncf\":\"\",\"Subcontratacion\":\"-\"},\"Paterno\":\"PEREZ\",\"Materno\":\"SALDA\\\\u00d1A\",\"Nombre\":\"FELICIDAD\",\"Sexo\":\"M\",\"FechaNacimiento\":\"1984-10-31\",\"Nacionalidad\":\"MEX\",\"DocProbatorio\":1,\"AnioReg\":1984,\"Foja\":0,\"Tomo\":0,\"Libro\":0,\"NumActa\":8386,\"CRIP\":\"\",\"NumEntidadReg\":10,\"CveMunicipioReg\":5,\"NumRegExtranjeros\":\"\",\"FolioCarta\":\"\",\"CveEntidadEmisora\":\"\",\"StatusCurp\":\"RCN\"}'"
      ],
      "text/latex": [
       "'\\{\"Response\":\"correct\",\"Curp\":\"PESF841031MDGRLL00\",\"DatosFiscales\":\\{\"Rfc\":\"PESF841031TU8\",\"Comprobado\":0,\"Sncf\":\"\",\"Subcontratacion\":\"-\"\\},\"Paterno\":\"PEREZ\",\"Materno\":\"SALDA\\textbackslash{}\\textbackslash{}u00d1A\",\"Nombre\":\"FELICIDAD\",\"Sexo\":\"M\",\"FechaNacimiento\":\"1984-10-31\",\"Nacionalidad\":\"MEX\",\"DocProbatorio\":1,\"AnioReg\":1984,\"Foja\":0,\"Tomo\":0,\"Libro\":0,\"NumActa\":8386,\"CRIP\":\"\",\"NumEntidadReg\":10,\"CveMunicipioReg\":5,\"NumRegExtranjeros\":\"\",\"FolioCarta\":\"\",\"CveEntidadEmisora\":\"\",\"StatusCurp\":\"RCN\"\\}'"
      ],
      "text/markdown": [
       "'{\"Response\":\"correct\",\"Curp\":\"PESF841031MDGRLL00\",\"DatosFiscales\":{\"Rfc\":\"PESF841031TU8\",\"Comprobado\":0,\"Sncf\":\"\",\"Subcontratacion\":\"-\"},\"Paterno\":\"PEREZ\",\"Materno\":\"SALDA\\\\u00d1A\",\"Nombre\":\"FELICIDAD\",\"Sexo\":\"M\",\"FechaNacimiento\":\"1984-10-31\",\"Nacionalidad\":\"MEX\",\"DocProbatorio\":1,\"AnioReg\":1984,\"Foja\":0,\"Tomo\":0,\"Libro\":0,\"NumActa\":8386,\"CRIP\":\"\",\"NumEntidadReg\":10,\"CveMunicipioReg\":5,\"NumRegExtranjeros\":\"\",\"FolioCarta\":\"\",\"CveEntidadEmisora\":\"\",\"StatusCurp\":\"RCN\"}'"
      ],
      "text/plain": [
       "[1] \"{\\\"Response\\\":\\\"correct\\\",\\\"Curp\\\":\\\"PESF841031MDGRLL00\\\",\\\"DatosFiscales\\\":{\\\"Rfc\\\":\\\"PESF841031TU8\\\",\\\"Comprobado\\\":0,\\\"Sncf\\\":\\\"\\\",\\\"Subcontratacion\\\":\\\"-\\\"},\\\"Paterno\\\":\\\"PEREZ\\\",\\\"Materno\\\":\\\"SALDA\\\\u00d1A\\\",\\\"Nombre\\\":\\\"FELICIDAD\\\",\\\"Sexo\\\":\\\"M\\\",\\\"FechaNacimiento\\\":\\\"1984-10-31\\\",\\\"Nacionalidad\\\":\\\"MEX\\\",\\\"DocProbatorio\\\":1,\\\"AnioReg\\\":1984,\\\"Foja\\\":0,\\\"Tomo\\\":0,\\\"Libro\\\":0,\\\"NumActa\\\":8386,\\\"CRIP\\\":\\\"\\\",\\\"NumEntidadReg\\\":10,\\\"CveMunicipioReg\\\":5,\\\"NumRegExtranjeros\\\":\\\"\\\",\\\"FolioCarta\\\":\\\"\\\",\\\"CveEntidadEmisora\\\":\\\"\\\",\\\"StatusCurp\\\":\\\"RCN\\\"}\""
      ]
     },
     "metadata": {},
     "output_type": "display_data"
    }
   ],
   "source": [
    "library(tidyverse)\n",
    "service<-\"https://conectame.ddns.net/rest/api.php?m=curp&user=prueba&pass=sC}9pW1Q]c&val=\"\n",
    "curp<-\"PESF841031MDGRLL00\"\n",
    "url<-str_c(service,curp)\n",
    "html<-read_html(url)\n",
    "html_text(html,trim=FALSE)"
   ]
  },
  {
   "cell_type": "code",
   "execution_count": null,
   "id": "2c22f383-736b-4386-aac2-491aa5631c32",
   "metadata": {},
   "outputs": [],
   "source": [
    "year<-1354\n",
    "\n",
    "ifelse(year %% 4 == 0, \"Bisiesto\", ifelse(year %% 4 == 0&year%%100, \"Bisiesto\", \"Non\"))"
   ]
  }
 ],
 "metadata": {
  "kernelspec": {
   "display_name": "R",
   "language": "R",
   "name": "ir"
  },
  "language_info": {
   "codemirror_mode": "r",
   "file_extension": ".r",
   "mimetype": "text/x-r-source",
   "name": "R",
   "pygments_lexer": "r",
   "version": "4.0.5"
  }
 },
 "nbformat": 4,
 "nbformat_minor": 5
}
